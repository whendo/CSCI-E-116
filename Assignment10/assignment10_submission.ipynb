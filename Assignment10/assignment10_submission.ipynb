{
 "cells": [
  {
   "cell_type": "code",
   "id": "initial_id",
   "metadata": {
    "collapsed": true,
    "ExecuteTime": {
     "end_time": "2025-04-28T22:21:05.264882Z",
     "start_time": "2025-04-28T22:21:05.262162Z"
    }
   },
   "source": [
    ""
   ],
   "outputs": [],
   "execution_count": null
  },
  {
   "metadata": {},
   "cell_type": "markdown",
   "source": [
    "# Assignment 10\n",
    "Bill Henderson\n",
    "\n",
    "CSCI-E-116\n",
    "\n",
    "Spring 2025"
   ],
   "id": "fef2f98724fe5799"
  },
  {
   "metadata": {},
   "cell_type": "markdown",
   "source": "# Imports",
   "id": "d9e498d5b203580a"
  },
  {
   "metadata": {
    "ExecuteTime": {
     "end_time": "2025-04-28T22:21:05.275609Z",
     "start_time": "2025-04-28T22:21:05.273325Z"
    }
   },
   "cell_type": "code",
   "source": "",
   "id": "26f34e3a00b6e66f",
   "outputs": [],
   "execution_count": null
  },
  {
   "metadata": {
    "ExecuteTime": {
     "end_time": "2025-04-28T22:35:03.798430Z",
     "start_time": "2025-04-28T22:35:03.793921Z"
    }
   },
   "cell_type": "code",
   "source": [
    "import pandas as pd\n",
    "from fredapi import Fred\n",
    "from yaml import safe_load\n",
    "from arch.unitroot import DFGLS\n",
    "from statsmodels.tsa.stattools import adfuller\n",
    "from statsmodels.tsa.vector_ar.vecm import *\n",
    "import random\n",
    "import warnings\n",
    "\n",
    "random.seed(42)\n",
    "warnings.filterwarnings('ignore')"
   ],
   "id": "f89ea804eb3400aa",
   "outputs": [],
   "execution_count": 40
  },
  {
   "metadata": {},
   "cell_type": "markdown",
   "source": "# Data Ingress\n",
   "id": "baf6947714070520"
  },
  {
   "metadata": {
    "ExecuteTime": {
     "end_time": "2025-04-28T22:21:05.358330Z",
     "start_time": "2025-04-28T22:21:05.355541Z"
    }
   },
   "cell_type": "code",
   "source": "fred_key = safe_load(open('/Users/hendwi1/env.yaml'))['fred_key']",
   "id": "192ab83133d3163c",
   "outputs": [],
   "execution_count": 22
  },
  {
   "metadata": {
    "ExecuteTime": {
     "end_time": "2025-04-28T22:21:08.512213Z",
     "start_time": "2025-04-28T22:21:05.365212Z"
    }
   },
   "cell_type": "code",
   "source": [
    "fred = Fred(api_key=fred_key)\n",
    "mortgage = fred.get_series(\"MORTGAGE30US\")\n",
    "treasury = fred.get_series(\"DGS10\")"
   ],
   "id": "bebc5bc9d8dfc2ec",
   "outputs": [],
   "execution_count": 23
  },
  {
   "metadata": {
    "ExecuteTime": {
     "end_time": "2025-04-28T22:21:08.523094Z",
     "start_time": "2025-04-28T22:21:08.519482Z"
    }
   },
   "cell_type": "code",
   "source": "mortgage",
   "id": "b3bad3aa84bda1cb",
   "outputs": [
    {
     "data": {
      "text/plain": [
       "1971-04-02    7.33\n",
       "1971-04-09    7.31\n",
       "1971-04-16    7.31\n",
       "1971-04-23    7.31\n",
       "1971-04-30    7.29\n",
       "              ... \n",
       "2025-03-27    6.65\n",
       "2025-04-03    6.64\n",
       "2025-04-10    6.62\n",
       "2025-04-17    6.83\n",
       "2025-04-24    6.81\n",
       "Length: 2822, dtype: float64"
      ]
     },
     "execution_count": 24,
     "metadata": {},
     "output_type": "execute_result"
    }
   ],
   "execution_count": 24
  },
  {
   "metadata": {
    "ExecuteTime": {
     "end_time": "2025-04-28T22:21:08.555469Z",
     "start_time": "2025-04-28T22:21:08.552059Z"
    }
   },
   "cell_type": "code",
   "source": "treasury",
   "id": "6b92ce049ad64d20",
   "outputs": [
    {
     "data": {
      "text/plain": [
       "1962-01-02    4.06\n",
       "1962-01-03    4.03\n",
       "1962-01-04    3.99\n",
       "1962-01-05    4.02\n",
       "1962-01-08    4.03\n",
       "              ... \n",
       "2025-04-21    4.42\n",
       "2025-04-22    4.41\n",
       "2025-04-23    4.40\n",
       "2025-04-24    4.32\n",
       "2025-04-25    4.29\n",
       "Length: 16519, dtype: float64"
      ]
     },
     "execution_count": 25,
     "metadata": {},
     "output_type": "execute_result"
    }
   ],
   "execution_count": 25
  },
  {
   "metadata": {},
   "cell_type": "markdown",
   "source": "## Convert them to the monthly frequency and starts in April 1971",
   "id": "261b81d5f154a0b"
  },
  {
   "metadata": {
    "ExecuteTime": {
     "end_time": "2025-04-28T22:21:08.636721Z",
     "start_time": "2025-04-28T22:21:08.625303Z"
    }
   },
   "cell_type": "code",
   "source": [
    "# chose to get the mean of montly values since it seemed to make the most sense. min, max, first, and last could be considered also.\n",
    "mort_monthly = mortgage.resample('M').mean().to_period('M')\n",
    "mort_monthly = mort_monthly[mort_monthly.index >= '1971-04']\n",
    "mort_monthly"
   ],
   "id": "ed0f204d524b8ba7",
   "outputs": [
    {
     "data": {
      "text/plain": [
       "1971-04    7.3100\n",
       "1971-05    7.4250\n",
       "1971-06    7.5300\n",
       "1971-07    7.6040\n",
       "1971-08    7.6975\n",
       "            ...  \n",
       "2024-12    6.7150\n",
       "2025-01    6.9580\n",
       "2025-02    6.8425\n",
       "2025-03    6.6500\n",
       "2025-04    6.7250\n",
       "Freq: M, Length: 649, dtype: float64"
      ]
     },
     "execution_count": 26,
     "metadata": {},
     "output_type": "execute_result"
    }
   ],
   "execution_count": 26
  },
  {
   "metadata": {
    "ExecuteTime": {
     "end_time": "2025-04-28T22:21:08.733228Z",
     "start_time": "2025-04-28T22:21:08.719919Z"
    }
   },
   "cell_type": "code",
   "source": [
    "treas_monthly = treasury.resample('M').mean().to_period('M')\n",
    "treas_monthly = treas_monthly[treas_monthly.index >= '1971-04']\n",
    "treas_monthly"
   ],
   "id": "86c7add3ceef4be2",
   "outputs": [
    {
     "data": {
      "text/plain": [
       "1971-04    5.833810\n",
       "1971-05    6.392500\n",
       "1971-06    6.522273\n",
       "1971-07    6.729524\n",
       "1971-08    6.582727\n",
       "             ...   \n",
       "2024-12    4.391429\n",
       "2025-01    4.629048\n",
       "2025-02    4.451053\n",
       "2025-03    4.280476\n",
       "2025-04    4.292778\n",
       "Freq: M, Length: 649, dtype: float64"
      ]
     },
     "execution_count": 27,
     "metadata": {},
     "output_type": "execute_result"
    }
   ],
   "execution_count": 27
  },
  {
   "metadata": {},
   "cell_type": "markdown",
   "source": "# Calculate the error correction (ec = m30 – t10)",
   "id": "43d7306bfe290b9"
  },
  {
   "metadata": {
    "ExecuteTime": {
     "end_time": "2025-04-28T22:21:08.869303Z",
     "start_time": "2025-04-28T22:21:08.864030Z"
    }
   },
   "cell_type": "code",
   "source": [
    "ec = mort_monthly - treas_monthly\n",
    "ec.describe()"
   ],
   "id": "85768dba24cd381b",
   "outputs": [
    {
     "data": {
      "text/plain": [
       "count    649.000000\n",
       "mean       1.752871\n",
       "std        0.518425\n",
       "min        0.533864\n",
       "25%        1.430238\n",
       "50%        1.657619\n",
       "75%        1.975714\n",
       "max        4.851667\n",
       "dtype: float64"
      ]
     },
     "execution_count": 28,
     "metadata": {},
     "output_type": "execute_result"
    }
   ],
   "execution_count": 28
  },
  {
   "metadata": {},
   "cell_type": "markdown",
   "source": "# Using the ADF test and DF-GLS test to determine that m30, t10, and ec are stationary or not.",
   "id": "45adee1404ef7e60"
  },
  {
   "metadata": {
    "ExecuteTime": {
     "end_time": "2025-04-28T22:25:19.982362Z",
     "start_time": "2025-04-28T22:25:19.978451Z"
    }
   },
   "cell_type": "code",
   "source": [
    "def adf_test(timeseries, varname):\n",
    "    print(f\"{varname.capitalize()} Results of Dickey-Fuller Test:\")\n",
    "    dftest = adfuller(timeseries, autolag=\"AIC\")\n",
    "    dfoutput = pd.Series(\n",
    "        dftest[0:4],\n",
    "        index=[\n",
    "            \"Test Statistic\",\n",
    "            \"p-value\",\n",
    "            \"#Lags Used\",\n",
    "            \"Number of Observations Used\",\n",
    "        ],\n",
    "    )\n",
    "    for key, value in dftest[4].items():\n",
    "        dfoutput[\"Critical Value (%s)\" % key] = value\n",
    "    print(dfoutput)\n",
    "    print('\\n\\n')"
   ],
   "id": "4a213222bfd38c9f",
   "outputs": [],
   "execution_count": 34
  },
  {
   "metadata": {
    "ExecuteTime": {
     "end_time": "2025-04-28T22:26:24.539347Z",
     "start_time": "2025-04-28T22:26:24.500556Z"
    }
   },
   "cell_type": "code",
   "source": [
    "\n",
    "data = {\n",
    "    'mortgage': mort_monthly,\n",
    "    'treasury': treas_monthly,\n",
    "    'ec': ec\n",
    "}\n",
    "\n",
    "_ = [adf_test(v,k) for k,v in data.items()]\n"
   ],
   "id": "bd6c5b09800c475a",
   "outputs": [
    {
     "name": "stdout",
     "output_type": "stream",
     "text": [
      "Mortgage Results of Dickey-Fuller Test:\n",
      "Test Statistic                  -1.338153\n",
      "p-value                          0.611541\n",
      "#Lags Used                       3.000000\n",
      "Number of Observations Used    645.000000\n",
      "Critical Value (1%)             -3.440529\n",
      "Critical Value (5%)             -2.866031\n",
      "Critical Value (10%)            -2.569162\n",
      "dtype: float64\n",
      "\n",
      "\n",
      "\n",
      "Treasury Results of Dickey-Fuller Test:\n",
      "Test Statistic                  -1.450028\n",
      "p-value                          0.558071\n",
      "#Lags Used                      12.000000\n",
      "Number of Observations Used    636.000000\n",
      "Critical Value (1%)             -3.440674\n",
      "Critical Value (5%)             -2.866095\n",
      "Critical Value (10%)            -2.569196\n",
      "dtype: float64\n",
      "\n",
      "\n",
      "\n",
      "Ec Results of Dickey-Fuller Test:\n",
      "Test Statistic                  -3.386703\n",
      "p-value                          0.011421\n",
      "#Lags Used                      20.000000\n",
      "Number of Observations Used    628.000000\n",
      "Critical Value (1%)             -3.440806\n",
      "Critical Value (5%)             -2.866153\n",
      "Critical Value (10%)            -2.569227\n",
      "dtype: float64\n",
      "\n",
      "\n",
      "\n"
     ]
    }
   ],
   "execution_count": 36
  },
  {
   "metadata": {
    "ExecuteTime": {
     "end_time": "2025-04-28T22:29:23.358189Z",
     "start_time": "2025-04-28T22:29:23.338467Z"
    }
   },
   "cell_type": "code",
   "source": [
    "df_gls = {k: DFGLS(v).pvalue for k,v in data.items()}\n",
    "df_gls"
   ],
   "id": "d6206fa86c388f4a",
   "outputs": [
    {
     "data": {
      "text/plain": [
       "{'mortgage': np.float64(0.17264041330860252),\n",
       " 'treasury': np.float64(0.14002867079723463),\n",
       " 'ec': np.float64(0.010691011197406071)}"
      ]
     },
     "execution_count": 38,
     "metadata": {},
     "output_type": "execute_result"
    }
   ],
   "execution_count": 38
  },
  {
   "metadata": {},
   "cell_type": "markdown",
   "source": "Appears both the ADF and DF-GLS both say that there's sufficient evidence that the mortgage and treasury data is not stationary, but the EC calculation is stationary. This is due to high p values on both tests for mortgage and treasury, but a very low p value for both tests with the EC calculated data.",
   "id": "b1ccdf8eab462450"
  },
  {
   "metadata": {},
   "cell_type": "markdown",
   "source": "# Vector Error Correction Model (VECM)",
   "id": "148dac4ac297357c"
  },
  {
   "metadata": {
    "ExecuteTime": {
     "end_time": "2025-04-28T22:51:37.751711Z",
     "start_time": "2025-04-28T22:51:37.743873Z"
    }
   },
   "cell_type": "code",
   "source": [
    "df = pd.concat([mort_monthly, treas_monthly], axis=1)\n",
    "df.columns = ['mortgage', 'treasury']\n",
    "df"
   ],
   "id": "bd7216f50bec08ff",
   "outputs": [
    {
     "data": {
      "text/plain": [
       "         mortgage  treasury\n",
       "1971-04    7.3100  5.833810\n",
       "1971-05    7.4250  6.392500\n",
       "1971-06    7.5300  6.522273\n",
       "1971-07    7.6040  6.729524\n",
       "1971-08    7.6975  6.582727\n",
       "...           ...       ...\n",
       "2024-12    6.7150  4.391429\n",
       "2025-01    6.9580  4.629048\n",
       "2025-02    6.8425  4.451053\n",
       "2025-03    6.6500  4.280476\n",
       "2025-04    6.7250  4.292778\n",
       "\n",
       "[649 rows x 2 columns]"
      ],
      "text/html": [
       "<div>\n",
       "<style scoped>\n",
       "    .dataframe tbody tr th:only-of-type {\n",
       "        vertical-align: middle;\n",
       "    }\n",
       "\n",
       "    .dataframe tbody tr th {\n",
       "        vertical-align: top;\n",
       "    }\n",
       "\n",
       "    .dataframe thead th {\n",
       "        text-align: right;\n",
       "    }\n",
       "</style>\n",
       "<table border=\"1\" class=\"dataframe\">\n",
       "  <thead>\n",
       "    <tr style=\"text-align: right;\">\n",
       "      <th></th>\n",
       "      <th>mortgage</th>\n",
       "      <th>treasury</th>\n",
       "    </tr>\n",
       "  </thead>\n",
       "  <tbody>\n",
       "    <tr>\n",
       "      <th>1971-04</th>\n",
       "      <td>7.3100</td>\n",
       "      <td>5.833810</td>\n",
       "    </tr>\n",
       "    <tr>\n",
       "      <th>1971-05</th>\n",
       "      <td>7.4250</td>\n",
       "      <td>6.392500</td>\n",
       "    </tr>\n",
       "    <tr>\n",
       "      <th>1971-06</th>\n",
       "      <td>7.5300</td>\n",
       "      <td>6.522273</td>\n",
       "    </tr>\n",
       "    <tr>\n",
       "      <th>1971-07</th>\n",
       "      <td>7.6040</td>\n",
       "      <td>6.729524</td>\n",
       "    </tr>\n",
       "    <tr>\n",
       "      <th>1971-08</th>\n",
       "      <td>7.6975</td>\n",
       "      <td>6.582727</td>\n",
       "    </tr>\n",
       "    <tr>\n",
       "      <th>...</th>\n",
       "      <td>...</td>\n",
       "      <td>...</td>\n",
       "    </tr>\n",
       "    <tr>\n",
       "      <th>2024-12</th>\n",
       "      <td>6.7150</td>\n",
       "      <td>4.391429</td>\n",
       "    </tr>\n",
       "    <tr>\n",
       "      <th>2025-01</th>\n",
       "      <td>6.9580</td>\n",
       "      <td>4.629048</td>\n",
       "    </tr>\n",
       "    <tr>\n",
       "      <th>2025-02</th>\n",
       "      <td>6.8425</td>\n",
       "      <td>4.451053</td>\n",
       "    </tr>\n",
       "    <tr>\n",
       "      <th>2025-03</th>\n",
       "      <td>6.6500</td>\n",
       "      <td>4.280476</td>\n",
       "    </tr>\n",
       "    <tr>\n",
       "      <th>2025-04</th>\n",
       "      <td>6.7250</td>\n",
       "      <td>4.292778</td>\n",
       "    </tr>\n",
       "  </tbody>\n",
       "</table>\n",
       "<p>649 rows × 2 columns</p>\n",
       "</div>"
      ]
     },
     "execution_count": 57,
     "metadata": {},
     "output_type": "execute_result"
    }
   ],
   "execution_count": 57
  },
  {
   "metadata": {
    "ExecuteTime": {
     "end_time": "2025-04-28T22:56:49.258709Z",
     "start_time": "2025-04-28T22:56:49.214850Z"
    }
   },
   "cell_type": "code",
   "source": [
    "lag_order = select_order(df, maxlags = 20)\n",
    "print(lag_order)"
   ],
   "id": "b1689b1f48b17e67",
   "outputs": [
    {
     "name": "stdout",
     "output_type": "stream",
     "text": [
      "<statsmodels.tsa.vector_ar.var_model.LagOrderResults object. Selected orders are: AIC -> 7, BIC -> 2, FPE -> 7, HQIC ->  2>\n"
     ]
    }
   ],
   "execution_count": 60
  },
  {
   "metadata": {
    "ExecuteTime": {
     "end_time": "2025-04-28T23:01:40.850190Z",
     "start_time": "2025-04-28T23:01:40.842468Z"
    }
   },
   "cell_type": "code",
   "source": [
    "rank_test = select_coint_rank(df, 0, 3, method=\"trace\",\n",
    "                              signif=0.05)\n",
    "rank_test.rank"
   ],
   "id": "948a66b6f98c9710",
   "outputs": [
    {
     "data": {
      "text/plain": [
       "1"
      ]
     },
     "execution_count": 64,
     "metadata": {},
     "output_type": "execute_result"
    }
   ],
   "execution_count": 64
  },
  {
   "metadata": {
    "ExecuteTime": {
     "end_time": "2025-04-28T23:02:03.464414Z",
     "start_time": "2025-04-28T23:02:03.419865Z"
    }
   },
   "cell_type": "code",
   "source": [
    "mod = VECM(\n",
    "    df,\n",
    "    k_ar_diff=lag_order.aic,\n",
    "    coint_rank=rank_test.rank\n",
    ")\n",
    "res = mod.fit()\n",
    "res.summary()"
   ],
   "id": "1c68b5436e2d55da",
   "outputs": [
    {
     "data": {
      "text/plain": [
       "<class 'statsmodels.iolib.summary.Summary'>\n",
       "\"\"\"\n",
       "Det. terms outside the coint. relation & lagged endog. parameters for equation mortgage\n",
       "===============================================================================\n",
       "                  coef    std err          z      P>|z|      [0.025      0.975]\n",
       "-------------------------------------------------------------------------------\n",
       "L1.mortgage     0.0333      0.052      0.644      0.520      -0.068       0.135\n",
       "L1.treasury     0.5751      0.041     13.882      0.000       0.494       0.656\n",
       "L2.mortgage    -0.2415      0.053     -4.547      0.000      -0.346      -0.137\n",
       "L2.treasury     0.0769      0.047      1.633      0.103      -0.015       0.169\n",
       "L3.mortgage    -0.0353      0.054     -0.649      0.516      -0.142       0.071\n",
       "L3.treasury     0.1431      0.047      3.018      0.003       0.050       0.236\n",
       "L4.mortgage    -0.0003      0.054     -0.006      0.995      -0.106       0.106\n",
       "L4.treasury    -0.0091      0.047     -0.193      0.847      -0.101       0.083\n",
       "L5.mortgage    -0.0616      0.054     -1.138      0.255      -0.168       0.044\n",
       "L5.treasury     0.1070      0.047      2.260      0.024       0.014       0.200\n",
       "L6.mortgage    -0.0733      0.053     -1.377      0.168      -0.178       0.031\n",
       "L6.treasury     0.0682      0.047      1.462      0.144      -0.023       0.160\n",
       "L7.mortgage     0.0763      0.042      1.797      0.072      -0.007       0.159\n",
       "L7.treasury     0.0025      0.045      0.056      0.955      -0.086       0.091\n",
       "Det. terms outside the coint. relation & lagged endog. parameters for equation treasury\n",
       "===============================================================================\n",
       "                  coef    std err          z      P>|z|      [0.025      0.975]\n",
       "-------------------------------------------------------------------------------\n",
       "L1.mortgage    -0.2903      0.065     -4.495      0.000      -0.417      -0.164\n",
       "L1.treasury     0.5511      0.052     10.639      0.000       0.450       0.653\n",
       "L2.mortgage    -0.0225      0.066     -0.338      0.735      -0.153       0.108\n",
       "L2.treasury    -0.0945      0.059     -1.604      0.109      -0.210       0.021\n",
       "L3.mortgage    -0.0016      0.068     -0.024      0.981      -0.135       0.132\n",
       "L3.treasury     0.1345      0.059      2.269      0.023       0.018       0.251\n",
       "L4.mortgage     0.0619      0.068      0.914      0.361      -0.071       0.194\n",
       "L4.treasury    -0.1412      0.059     -2.400      0.016      -0.256      -0.026\n",
       "L5.mortgage    -0.0901      0.068     -1.332      0.183      -0.223       0.042\n",
       "L5.treasury     0.1447      0.059      2.445      0.014       0.029       0.261\n",
       "L6.mortgage    -0.0771      0.067     -1.158      0.247      -0.208       0.053\n",
       "L6.treasury     0.0288      0.058      0.494      0.621      -0.086       0.143\n",
       "L7.mortgage     0.2064      0.053      3.889      0.000       0.102       0.310\n",
       "L7.treasury    -0.1016      0.056     -1.808      0.071      -0.212       0.009\n",
       "              Loading coefficients (alpha) for equation mortgage              \n",
       "==============================================================================\n",
       "                 coef    std err          z      P>|z|      [0.025      0.975]\n",
       "------------------------------------------------------------------------------\n",
       "ec1           -0.0031      0.009     -0.355      0.722      -0.020       0.014\n",
       "              Loading coefficients (alpha) for equation treasury              \n",
       "==============================================================================\n",
       "                 coef    std err          z      P>|z|      [0.025      0.975]\n",
       "------------------------------------------------------------------------------\n",
       "ec1            0.0142      0.011      1.306      0.192      -0.007       0.035\n",
       "          Cointegration relations for loading-coefficients-column 1           \n",
       "==============================================================================\n",
       "                 coef    std err          z      P>|z|      [0.025      0.975]\n",
       "------------------------------------------------------------------------------\n",
       "beta.1         1.0000          0          0      0.000       1.000       1.000\n",
       "beta.2        -1.2796      0.069    -18.618      0.000      -1.414      -1.145\n",
       "==============================================================================\n",
       "\"\"\""
      ],
      "text/html": [
       "<table class=\"simpletable\">\n",
       "<caption>Det. terms outside the coint. relation & lagged endog. parameters for equation mortgage</caption>\n",
       "<tr>\n",
       "       <td></td>          <th>coef</th>     <th>std err</th>      <th>z</th>      <th>P>|z|</th>  <th>[0.025</th>    <th>0.975]</th>  \n",
       "</tr>\n",
       "<tr>\n",
       "  <th>L1.mortgage</th> <td>    0.0333</td> <td>    0.052</td> <td>    0.644</td> <td> 0.520</td> <td>   -0.068</td> <td>    0.135</td>\n",
       "</tr>\n",
       "<tr>\n",
       "  <th>L1.treasury</th> <td>    0.5751</td> <td>    0.041</td> <td>   13.882</td> <td> 0.000</td> <td>    0.494</td> <td>    0.656</td>\n",
       "</tr>\n",
       "<tr>\n",
       "  <th>L2.mortgage</th> <td>   -0.2415</td> <td>    0.053</td> <td>   -4.547</td> <td> 0.000</td> <td>   -0.346</td> <td>   -0.137</td>\n",
       "</tr>\n",
       "<tr>\n",
       "  <th>L2.treasury</th> <td>    0.0769</td> <td>    0.047</td> <td>    1.633</td> <td> 0.103</td> <td>   -0.015</td> <td>    0.169</td>\n",
       "</tr>\n",
       "<tr>\n",
       "  <th>L3.mortgage</th> <td>   -0.0353</td> <td>    0.054</td> <td>   -0.649</td> <td> 0.516</td> <td>   -0.142</td> <td>    0.071</td>\n",
       "</tr>\n",
       "<tr>\n",
       "  <th>L3.treasury</th> <td>    0.1431</td> <td>    0.047</td> <td>    3.018</td> <td> 0.003</td> <td>    0.050</td> <td>    0.236</td>\n",
       "</tr>\n",
       "<tr>\n",
       "  <th>L4.mortgage</th> <td>   -0.0003</td> <td>    0.054</td> <td>   -0.006</td> <td> 0.995</td> <td>   -0.106</td> <td>    0.106</td>\n",
       "</tr>\n",
       "<tr>\n",
       "  <th>L4.treasury</th> <td>   -0.0091</td> <td>    0.047</td> <td>   -0.193</td> <td> 0.847</td> <td>   -0.101</td> <td>    0.083</td>\n",
       "</tr>\n",
       "<tr>\n",
       "  <th>L5.mortgage</th> <td>   -0.0616</td> <td>    0.054</td> <td>   -1.138</td> <td> 0.255</td> <td>   -0.168</td> <td>    0.044</td>\n",
       "</tr>\n",
       "<tr>\n",
       "  <th>L5.treasury</th> <td>    0.1070</td> <td>    0.047</td> <td>    2.260</td> <td> 0.024</td> <td>    0.014</td> <td>    0.200</td>\n",
       "</tr>\n",
       "<tr>\n",
       "  <th>L6.mortgage</th> <td>   -0.0733</td> <td>    0.053</td> <td>   -1.377</td> <td> 0.168</td> <td>   -0.178</td> <td>    0.031</td>\n",
       "</tr>\n",
       "<tr>\n",
       "  <th>L6.treasury</th> <td>    0.0682</td> <td>    0.047</td> <td>    1.462</td> <td> 0.144</td> <td>   -0.023</td> <td>    0.160</td>\n",
       "</tr>\n",
       "<tr>\n",
       "  <th>L7.mortgage</th> <td>    0.0763</td> <td>    0.042</td> <td>    1.797</td> <td> 0.072</td> <td>   -0.007</td> <td>    0.159</td>\n",
       "</tr>\n",
       "<tr>\n",
       "  <th>L7.treasury</th> <td>    0.0025</td> <td>    0.045</td> <td>    0.056</td> <td> 0.955</td> <td>   -0.086</td> <td>    0.091</td>\n",
       "</tr>\n",
       "</table>\n",
       "<table class=\"simpletable\">\n",
       "<caption>Det. terms outside the coint. relation & lagged endog. parameters for equation treasury</caption>\n",
       "<tr>\n",
       "       <td></td>          <th>coef</th>     <th>std err</th>      <th>z</th>      <th>P>|z|</th>  <th>[0.025</th>    <th>0.975]</th>  \n",
       "</tr>\n",
       "<tr>\n",
       "  <th>L1.mortgage</th> <td>   -0.2903</td> <td>    0.065</td> <td>   -4.495</td> <td> 0.000</td> <td>   -0.417</td> <td>   -0.164</td>\n",
       "</tr>\n",
       "<tr>\n",
       "  <th>L1.treasury</th> <td>    0.5511</td> <td>    0.052</td> <td>   10.639</td> <td> 0.000</td> <td>    0.450</td> <td>    0.653</td>\n",
       "</tr>\n",
       "<tr>\n",
       "  <th>L2.mortgage</th> <td>   -0.0225</td> <td>    0.066</td> <td>   -0.338</td> <td> 0.735</td> <td>   -0.153</td> <td>    0.108</td>\n",
       "</tr>\n",
       "<tr>\n",
       "  <th>L2.treasury</th> <td>   -0.0945</td> <td>    0.059</td> <td>   -1.604</td> <td> 0.109</td> <td>   -0.210</td> <td>    0.021</td>\n",
       "</tr>\n",
       "<tr>\n",
       "  <th>L3.mortgage</th> <td>   -0.0016</td> <td>    0.068</td> <td>   -0.024</td> <td> 0.981</td> <td>   -0.135</td> <td>    0.132</td>\n",
       "</tr>\n",
       "<tr>\n",
       "  <th>L3.treasury</th> <td>    0.1345</td> <td>    0.059</td> <td>    2.269</td> <td> 0.023</td> <td>    0.018</td> <td>    0.251</td>\n",
       "</tr>\n",
       "<tr>\n",
       "  <th>L4.mortgage</th> <td>    0.0619</td> <td>    0.068</td> <td>    0.914</td> <td> 0.361</td> <td>   -0.071</td> <td>    0.194</td>\n",
       "</tr>\n",
       "<tr>\n",
       "  <th>L4.treasury</th> <td>   -0.1412</td> <td>    0.059</td> <td>   -2.400</td> <td> 0.016</td> <td>   -0.256</td> <td>   -0.026</td>\n",
       "</tr>\n",
       "<tr>\n",
       "  <th>L5.mortgage</th> <td>   -0.0901</td> <td>    0.068</td> <td>   -1.332</td> <td> 0.183</td> <td>   -0.223</td> <td>    0.042</td>\n",
       "</tr>\n",
       "<tr>\n",
       "  <th>L5.treasury</th> <td>    0.1447</td> <td>    0.059</td> <td>    2.445</td> <td> 0.014</td> <td>    0.029</td> <td>    0.261</td>\n",
       "</tr>\n",
       "<tr>\n",
       "  <th>L6.mortgage</th> <td>   -0.0771</td> <td>    0.067</td> <td>   -1.158</td> <td> 0.247</td> <td>   -0.208</td> <td>    0.053</td>\n",
       "</tr>\n",
       "<tr>\n",
       "  <th>L6.treasury</th> <td>    0.0288</td> <td>    0.058</td> <td>    0.494</td> <td> 0.621</td> <td>   -0.086</td> <td>    0.143</td>\n",
       "</tr>\n",
       "<tr>\n",
       "  <th>L7.mortgage</th> <td>    0.2064</td> <td>    0.053</td> <td>    3.889</td> <td> 0.000</td> <td>    0.102</td> <td>    0.310</td>\n",
       "</tr>\n",
       "<tr>\n",
       "  <th>L7.treasury</th> <td>   -0.1016</td> <td>    0.056</td> <td>   -1.808</td> <td> 0.071</td> <td>   -0.212</td> <td>    0.009</td>\n",
       "</tr>\n",
       "</table>\n",
       "<table class=\"simpletable\">\n",
       "<caption>Loading coefficients (alpha) for equation mortgage</caption>\n",
       "<tr>\n",
       "   <td></td>      <th>coef</th>     <th>std err</th>      <th>z</th>      <th>P>|z|</th>  <th>[0.025</th>    <th>0.975]</th>  \n",
       "</tr>\n",
       "<tr>\n",
       "  <th>ec1</th> <td>   -0.0031</td> <td>    0.009</td> <td>   -0.355</td> <td> 0.722</td> <td>   -0.020</td> <td>    0.014</td>\n",
       "</tr>\n",
       "</table>\n",
       "<table class=\"simpletable\">\n",
       "<caption>Loading coefficients (alpha) for equation treasury</caption>\n",
       "<tr>\n",
       "   <td></td>      <th>coef</th>     <th>std err</th>      <th>z</th>      <th>P>|z|</th>  <th>[0.025</th>    <th>0.975]</th>  \n",
       "</tr>\n",
       "<tr>\n",
       "  <th>ec1</th> <td>    0.0142</td> <td>    0.011</td> <td>    1.306</td> <td> 0.192</td> <td>   -0.007</td> <td>    0.035</td>\n",
       "</tr>\n",
       "</table>\n",
       "<table class=\"simpletable\">\n",
       "<caption>Cointegration relations for loading-coefficients-column 1</caption>\n",
       "<tr>\n",
       "     <td></td>       <th>coef</th>     <th>std err</th>      <th>z</th>      <th>P>|z|</th>  <th>[0.025</th>    <th>0.975]</th>  \n",
       "</tr>\n",
       "<tr>\n",
       "  <th>beta.1</th> <td>    1.0000</td> <td>        0</td> <td>        0</td> <td> 0.000</td> <td>    1.000</td> <td>    1.000</td>\n",
       "</tr>\n",
       "<tr>\n",
       "  <th>beta.2</th> <td>   -1.2796</td> <td>    0.069</td> <td>  -18.618</td> <td> 0.000</td> <td>   -1.414</td> <td>   -1.145</td>\n",
       "</tr>\n",
       "</table>"
      ],
      "text/latex": "\\begin{center}\n\\begin{tabular}{lcccccc}\n\\toprule\n                     & \\textbf{coef} & \\textbf{std err} & \\textbf{z} & \\textbf{P$> |$z$|$} & \\textbf{[0.025} & \\textbf{0.975]}  \\\\\n\\midrule\n\\textbf{L1.mortgage} &       0.0333  &        0.052     &     0.644  &         0.520        &       -0.068    &        0.135     \\\\\n\\textbf{L1.treasury} &       0.5751  &        0.041     &    13.882  &         0.000        &        0.494    &        0.656     \\\\\n\\textbf{L2.mortgage} &      -0.2415  &        0.053     &    -4.547  &         0.000        &       -0.346    &       -0.137     \\\\\n\\textbf{L2.treasury} &       0.0769  &        0.047     &     1.633  &         0.103        &       -0.015    &        0.169     \\\\\n\\textbf{L3.mortgage} &      -0.0353  &        0.054     &    -0.649  &         0.516        &       -0.142    &        0.071     \\\\\n\\textbf{L3.treasury} &       0.1431  &        0.047     &     3.018  &         0.003        &        0.050    &        0.236     \\\\\n\\textbf{L4.mortgage} &      -0.0003  &        0.054     &    -0.006  &         0.995        &       -0.106    &        0.106     \\\\\n\\textbf{L4.treasury} &      -0.0091  &        0.047     &    -0.193  &         0.847        &       -0.101    &        0.083     \\\\\n\\textbf{L5.mortgage} &      -0.0616  &        0.054     &    -1.138  &         0.255        &       -0.168    &        0.044     \\\\\n\\textbf{L5.treasury} &       0.1070  &        0.047     &     2.260  &         0.024        &        0.014    &        0.200     \\\\\n\\textbf{L6.mortgage} &      -0.0733  &        0.053     &    -1.377  &         0.168        &       -0.178    &        0.031     \\\\\n\\textbf{L6.treasury} &       0.0682  &        0.047     &     1.462  &         0.144        &       -0.023    &        0.160     \\\\\n\\textbf{L7.mortgage} &       0.0763  &        0.042     &     1.797  &         0.072        &       -0.007    &        0.159     \\\\\n\\textbf{L7.treasury} &       0.0025  &        0.045     &     0.056  &         0.955        &       -0.086    &        0.091     \\\\\n                     & \\textbf{coef} & \\textbf{std err} & \\textbf{z} & \\textbf{P$> |$z$|$} & \\textbf{[0.025} & \\textbf{0.975]}  \\\\\n\\midrule\n\\textbf{L1.mortgage} &      -0.2903  &        0.065     &    -4.495  &         0.000        &       -0.417    &       -0.164     \\\\\n\\textbf{L1.treasury} &       0.5511  &        0.052     &    10.639  &         0.000        &        0.450    &        0.653     \\\\\n\\textbf{L2.mortgage} &      -0.0225  &        0.066     &    -0.338  &         0.735        &       -0.153    &        0.108     \\\\\n\\textbf{L2.treasury} &      -0.0945  &        0.059     &    -1.604  &         0.109        &       -0.210    &        0.021     \\\\\n\\textbf{L3.mortgage} &      -0.0016  &        0.068     &    -0.024  &         0.981        &       -0.135    &        0.132     \\\\\n\\textbf{L3.treasury} &       0.1345  &        0.059     &     2.269  &         0.023        &        0.018    &        0.251     \\\\\n\\textbf{L4.mortgage} &       0.0619  &        0.068     &     0.914  &         0.361        &       -0.071    &        0.194     \\\\\n\\textbf{L4.treasury} &      -0.1412  &        0.059     &    -2.400  &         0.016        &       -0.256    &       -0.026     \\\\\n\\textbf{L5.mortgage} &      -0.0901  &        0.068     &    -1.332  &         0.183        &       -0.223    &        0.042     \\\\\n\\textbf{L5.treasury} &       0.1447  &        0.059     &     2.445  &         0.014        &        0.029    &        0.261     \\\\\n\\textbf{L6.mortgage} &      -0.0771  &        0.067     &    -1.158  &         0.247        &       -0.208    &        0.053     \\\\\n\\textbf{L6.treasury} &       0.0288  &        0.058     &     0.494  &         0.621        &       -0.086    &        0.143     \\\\\n\\textbf{L7.mortgage} &       0.2064  &        0.053     &     3.889  &         0.000        &        0.102    &        0.310     \\\\\n\\textbf{L7.treasury} &      -0.1016  &        0.056     &    -1.808  &         0.071        &       -0.212    &        0.009     \\\\\n             & \\textbf{coef} & \\textbf{std err} & \\textbf{z} & \\textbf{P$> |$z$|$} & \\textbf{[0.025} & \\textbf{0.975]}  \\\\\n\\midrule\n\\textbf{ec1} &      -0.0031  &        0.009     &    -0.355  &         0.722        &       -0.020    &        0.014     \\\\\n             & \\textbf{coef} & \\textbf{std err} & \\textbf{z} & \\textbf{P$> |$z$|$} & \\textbf{[0.025} & \\textbf{0.975]}  \\\\\n\\midrule\n\\textbf{ec1} &       0.0142  &        0.011     &     1.306  &         0.192        &       -0.007    &        0.035     \\\\\n                & \\textbf{coef} & \\textbf{std err} & \\textbf{z} & \\textbf{P$> |$z$|$} & \\textbf{[0.025} & \\textbf{0.975]}  \\\\\n\\midrule\n\\textbf{beta.1} &       1.0000  &            0     &         0  &         0.000        &        1.000    &        1.000     \\\\\n\\textbf{beta.2} &      -1.2796  &        0.069     &   -18.618  &         0.000        &       -1.414    &       -1.145     \\\\\n\\bottomrule\n\\end{tabular}\n%\\caption{Det. terms outside the coint. relation & lagged endog. parameters for equation mortgage}\n\\end{center}"
     },
     "execution_count": 65,
     "metadata": {},
     "output_type": "execute_result"
    }
   ],
   "execution_count": 65
  },
  {
   "metadata": {},
   "cell_type": "markdown",
   "source": "From the above summary of the VECM, both ec values for mortgage and treasury have p values that are too high to assume they are statistically significant.",
   "id": "e51ff7068ec0d392"
  }
 ],
 "metadata": {
  "kernelspec": {
   "display_name": "Python 3",
   "language": "python",
   "name": "python3"
  },
  "language_info": {
   "codemirror_mode": {
    "name": "ipython",
    "version": 2
   },
   "file_extension": ".py",
   "mimetype": "text/x-python",
   "name": "python",
   "nbconvert_exporter": "python",
   "pygments_lexer": "ipython2",
   "version": "2.7.6"
  }
 },
 "nbformat": 4,
 "nbformat_minor": 5
}
