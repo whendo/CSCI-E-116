{
 "cells": [
  {
   "cell_type": "markdown",
   "id": "79a220fb",
   "metadata": {},
   "source": [
    "# Assignment 9\n",
    "Bill Henderson\n",
    "\n",
    "CSCI-E-116\n",
    "\n",
    "Spring 2025"
   ]
  },
  {
   "cell_type": "markdown",
   "id": "ee791fce",
   "metadata": {},
   "source": [
    "# Imports"
   ]
  },
  {
   "cell_type": "code",
   "execution_count": 110,
   "id": "9eb895ed",
   "metadata": {},
   "outputs": [],
   "source": [
    "import pandas as pd\n",
    "import statsmodels.api as sm\n",
    "import statsmodels.formula.api as smf\n",
    "from statsmodels.regression.rolling import RollingOLS\n",
    "from statsmodels.tsa.arima.model import ARIMA\n",
    "from statsmodels.tools.sm_exceptions import ConvergenceWarning\n",
    "import seaborn as sns\n",
    "import numpy as np\n",
    "from datetime import datetime\n",
    "from datetime import timedelta\n",
    "from sklearn.metrics import root_mean_squared_error\n",
    "from fredapi import Fred\n",
    "from yaml import safe_load\n",
    "import yfinance as yf\n",
    "from arch import arch_model\n",
    "from arch.univariate import ARCHInMean\n",
    "import random\n",
    "import matplotlib.pyplot as plt\n",
    "import warnings\n",
    "\n",
    "random.seed(42)\n",
    "warnings.filterwarnings('ignore', category=ConvergenceWarning)"
   ]
  },
  {
   "cell_type": "markdown",
   "id": "1829e1a2",
   "metadata": {},
   "source": [
    "## Data Ingress"
   ]
  },
  {
   "cell_type": "code",
   "execution_count": 111,
   "id": "f014aad1",
   "metadata": {},
   "outputs": [],
   "source": [
    "df = pd.read_excel('ie_data.xlsx',sheet_name='Data1', dtype={'date': 'str'})\n",
    "df.date = pd.to_datetime(df.date, format=\"%Y.%m\")"
   ]
  },
  {
   "cell_type": "code",
   "execution_count": 112,
   "id": "8282e571",
   "metadata": {},
   "outputs": [
    {
     "data": {
      "application/vnd.microsoft.datawrangler.viewer.v0+json": {
       "columns": [
        {
         "name": "index",
         "rawType": "object",
         "type": "string"
        },
        {
         "name": "ret",
         "rawType": "float64",
         "type": "float"
        },
        {
         "name": "cape",
         "rawType": "float64",
         "type": "float"
        },
        {
         "name": "trcape",
         "rawType": "float64",
         "type": "float"
        },
        {
         "name": "ecy",
         "rawType": "float64",
         "type": "float"
        }
       ],
       "conversionMethod": "pd.DataFrame",
       "ref": "12d6ea2f-c0d3-48f5-b412-ba6b46740e10",
       "rows": [
        [
         "count",
         "1599.0",
         "1719.0",
         "1719.0",
         "1719.0"
        ],
        [
         "mean",
         "0.06657026237355201",
         "17.450608055689575",
         "20.870102099042846",
         "0.046398655640066545"
        ],
        [
         "std",
         "0.051604835944964025",
         "7.228544071452564",
         "7.413732082536681",
         "0.043983048269194455"
        ],
        [
         "min",
         "-0.059238835834665604",
         "4.784241045083249",
         "6.582424980866884",
         "-0.02577697882883577"
        ],
        [
         "25%",
         "0.03379475346415739",
         "11.972563052135646",
         "15.459255428564976",
         "0.01593508510573711"
        ],
        [
         "50%",
         "0.06544798558744569",
         "16.518057827257802",
         "20.511204667640982",
         "0.03388539955843836"
        ],
        [
         "75%",
         "0.10318237703467492",
         "21.196449736431184",
         "24.744221560784325",
         "0.06610524349170221"
        ],
        [
         "max",
         "0.19958456398027868",
         "44.197939761040566",
         "48.11096868299518",
         "0.2353400608539373"
        ]
       ],
       "shape": {
        "columns": 4,
        "rows": 8
       }
      },
      "text/html": [
       "<div>\n",
       "<style scoped>\n",
       "    .dataframe tbody tr th:only-of-type {\n",
       "        vertical-align: middle;\n",
       "    }\n",
       "\n",
       "    .dataframe tbody tr th {\n",
       "        vertical-align: top;\n",
       "    }\n",
       "\n",
       "    .dataframe thead th {\n",
       "        text-align: right;\n",
       "    }\n",
       "</style>\n",
       "<table border=\"1\" class=\"dataframe\">\n",
       "  <thead>\n",
       "    <tr style=\"text-align: right;\">\n",
       "      <th></th>\n",
       "      <th>ret</th>\n",
       "      <th>cape</th>\n",
       "      <th>trcape</th>\n",
       "      <th>ecy</th>\n",
       "    </tr>\n",
       "  </thead>\n",
       "  <tbody>\n",
       "    <tr>\n",
       "      <th>count</th>\n",
       "      <td>1599.000000</td>\n",
       "      <td>1719.000000</td>\n",
       "      <td>1719.000000</td>\n",
       "      <td>1719.000000</td>\n",
       "    </tr>\n",
       "    <tr>\n",
       "      <th>mean</th>\n",
       "      <td>0.066570</td>\n",
       "      <td>17.450608</td>\n",
       "      <td>20.870102</td>\n",
       "      <td>0.046399</td>\n",
       "    </tr>\n",
       "    <tr>\n",
       "      <th>std</th>\n",
       "      <td>0.051605</td>\n",
       "      <td>7.228544</td>\n",
       "      <td>7.413732</td>\n",
       "      <td>0.043983</td>\n",
       "    </tr>\n",
       "    <tr>\n",
       "      <th>min</th>\n",
       "      <td>-0.059239</td>\n",
       "      <td>4.784241</td>\n",
       "      <td>6.582425</td>\n",
       "      <td>-0.025777</td>\n",
       "    </tr>\n",
       "    <tr>\n",
       "      <th>25%</th>\n",
       "      <td>0.033795</td>\n",
       "      <td>11.972563</td>\n",
       "      <td>15.459255</td>\n",
       "      <td>0.015935</td>\n",
       "    </tr>\n",
       "    <tr>\n",
       "      <th>50%</th>\n",
       "      <td>0.065448</td>\n",
       "      <td>16.518058</td>\n",
       "      <td>20.511205</td>\n",
       "      <td>0.033885</td>\n",
       "    </tr>\n",
       "    <tr>\n",
       "      <th>75%</th>\n",
       "      <td>0.103182</td>\n",
       "      <td>21.196450</td>\n",
       "      <td>24.744222</td>\n",
       "      <td>0.066105</td>\n",
       "    </tr>\n",
       "    <tr>\n",
       "      <th>max</th>\n",
       "      <td>0.199585</td>\n",
       "      <td>44.197940</td>\n",
       "      <td>48.110969</td>\n",
       "      <td>0.235340</td>\n",
       "    </tr>\n",
       "  </tbody>\n",
       "</table>\n",
       "</div>"
      ],
      "text/plain": [
       "               ret         cape       trcape          ecy\n",
       "count  1599.000000  1719.000000  1719.000000  1719.000000\n",
       "mean      0.066570    17.450608    20.870102     0.046399\n",
       "std       0.051605     7.228544     7.413732     0.043983\n",
       "min      -0.059239     4.784241     6.582425    -0.025777\n",
       "25%       0.033795    11.972563    15.459255     0.015935\n",
       "50%       0.065448    16.518058    20.511205     0.033885\n",
       "75%       0.103182    21.196450    24.744222     0.066105\n",
       "max       0.199585    44.197940    48.110969     0.235340"
      ]
     },
     "execution_count": 112,
     "metadata": {},
     "output_type": "execute_result"
    }
   ],
   "source": [
    "# adjusted return column name due to syntax issues with the ols function\n",
    "df.columns = ['date', 'ret', 'cape', 'trcape', 'ecy']\n",
    "df = df.set_index('date').sort_index()\n",
    "df.describe()"
   ]
  },
  {
   "cell_type": "code",
   "execution_count": 113,
   "id": "b1576471",
   "metadata": {},
   "outputs": [
    {
     "data": {
      "application/vnd.microsoft.datawrangler.viewer.v0+json": {
       "columns": [
        {
         "name": "index",
         "rawType": "object",
         "type": "string"
        },
        {
         "name": "ret",
         "rawType": "float64",
         "type": "float"
        },
        {
         "name": "cape",
         "rawType": "float64",
         "type": "float"
        },
        {
         "name": "trcape",
         "rawType": "float64",
         "type": "float"
        },
        {
         "name": "ecy",
         "rawType": "float64",
         "type": "float"
        }
       ],
       "conversionMethod": "pd.DataFrame",
       "ref": "54fefe43-8874-45b0-b459-dbba56fbbcb1",
       "rows": [
        [
         "count",
         "1599.0",
         "1600.0",
         "1600.0",
         "1600.0"
        ],
        [
         "mean",
         "0.06657026237355201",
         "16.532019751741053",
         "20.0007341552541",
         "0.04758798401452645"
        ],
        [
         "std",
         "0.051604835944964025",
         "6.561787491044834",
         "6.863676897936269",
         "0.04531287816451026"
        ],
        [
         "min",
         "-0.059238835834665604",
         "4.784241045083249",
         "6.582424980866884",
         "-0.02577697882883577"
        ],
        [
         "25%",
         "0.03379475346415739",
         "11.696398307051698",
         "15.167380754232237",
         "0.014625346324438333"
        ],
        [
         "50%",
         "0.06544798558744569",
         "15.937167292332253",
         "19.821522034654738",
         "0.035033111496291416"
        ],
        [
         "75%",
         "0.10318237703467492",
         "19.936849791631445",
         "23.811356722201715",
         "0.06899720031020037"
        ],
        [
         "max",
         "0.19958456398027868",
         "44.197939761040566",
         "48.11096868299518",
         "0.2353400608539373"
        ]
       ],
       "shape": {
        "columns": 4,
        "rows": 8
       }
      },
      "text/html": [
       "<div>\n",
       "<style scoped>\n",
       "    .dataframe tbody tr th:only-of-type {\n",
       "        vertical-align: middle;\n",
       "    }\n",
       "\n",
       "    .dataframe tbody tr th {\n",
       "        vertical-align: top;\n",
       "    }\n",
       "\n",
       "    .dataframe thead th {\n",
       "        text-align: right;\n",
       "    }\n",
       "</style>\n",
       "<table border=\"1\" class=\"dataframe\">\n",
       "  <thead>\n",
       "    <tr style=\"text-align: right;\">\n",
       "      <th></th>\n",
       "      <th>ret</th>\n",
       "      <th>cape</th>\n",
       "      <th>trcape</th>\n",
       "      <th>ecy</th>\n",
       "    </tr>\n",
       "  </thead>\n",
       "  <tbody>\n",
       "    <tr>\n",
       "      <th>count</th>\n",
       "      <td>1599.000000</td>\n",
       "      <td>1600.000000</td>\n",
       "      <td>1600.000000</td>\n",
       "      <td>1600.000000</td>\n",
       "    </tr>\n",
       "    <tr>\n",
       "      <th>mean</th>\n",
       "      <td>0.066570</td>\n",
       "      <td>16.532020</td>\n",
       "      <td>20.000734</td>\n",
       "      <td>0.047588</td>\n",
       "    </tr>\n",
       "    <tr>\n",
       "      <th>std</th>\n",
       "      <td>0.051605</td>\n",
       "      <td>6.561787</td>\n",
       "      <td>6.863677</td>\n",
       "      <td>0.045313</td>\n",
       "    </tr>\n",
       "    <tr>\n",
       "      <th>min</th>\n",
       "      <td>-0.059239</td>\n",
       "      <td>4.784241</td>\n",
       "      <td>6.582425</td>\n",
       "      <td>-0.025777</td>\n",
       "    </tr>\n",
       "    <tr>\n",
       "      <th>25%</th>\n",
       "      <td>0.033795</td>\n",
       "      <td>11.696398</td>\n",
       "      <td>15.167381</td>\n",
       "      <td>0.014625</td>\n",
       "    </tr>\n",
       "    <tr>\n",
       "      <th>50%</th>\n",
       "      <td>0.065448</td>\n",
       "      <td>15.937167</td>\n",
       "      <td>19.821522</td>\n",
       "      <td>0.035033</td>\n",
       "    </tr>\n",
       "    <tr>\n",
       "      <th>75%</th>\n",
       "      <td>0.103182</td>\n",
       "      <td>19.936850</td>\n",
       "      <td>23.811357</td>\n",
       "      <td>0.068997</td>\n",
       "    </tr>\n",
       "    <tr>\n",
       "      <th>max</th>\n",
       "      <td>0.199585</td>\n",
       "      <td>44.197940</td>\n",
       "      <td>48.110969</td>\n",
       "      <td>0.235340</td>\n",
       "    </tr>\n",
       "  </tbody>\n",
       "</table>\n",
       "</div>"
      ],
      "text/plain": [
       "               ret         cape       trcape          ecy\n",
       "count  1599.000000  1600.000000  1600.000000  1600.000000\n",
       "mean      0.066570    16.532020    20.000734     0.047588\n",
       "std       0.051605     6.561787     6.863677     0.045313\n",
       "min      -0.059239     4.784241     6.582425    -0.025777\n",
       "25%       0.033795    11.696398    15.167381     0.014625\n",
       "50%       0.065448    15.937167    19.821522     0.035033\n",
       "75%       0.103182    19.936850    23.811357     0.068997\n",
       "max       0.199585    44.197940    48.110969     0.235340"
      ]
     },
     "execution_count": 113,
     "metadata": {},
     "output_type": "execute_result"
    }
   ],
   "source": [
    "train = df[df.index <= datetime(2014,3, 1)]\n",
    "train.describe()"
   ]
  },
  {
   "cell_type": "code",
   "execution_count": 114,
   "id": "8d3bf4e5",
   "metadata": {},
   "outputs": [
    {
     "data": {
      "application/vnd.microsoft.datawrangler.viewer.v0+json": {
       "columns": [
        {
         "name": "index",
         "rawType": "object",
         "type": "string"
        },
        {
         "name": "ret",
         "rawType": "float64",
         "type": "float"
        },
        {
         "name": "cape",
         "rawType": "float64",
         "type": "float"
        },
        {
         "name": "trcape",
         "rawType": "float64",
         "type": "float"
        },
        {
         "name": "ecy",
         "rawType": "float64",
         "type": "float"
        }
       ],
       "conversionMethod": "pd.DataFrame",
       "ref": "14d746fc-a781-4f2f-8fef-478c31bda884",
       "rows": [
        [
         "count",
         "0.0",
         "119.0",
         "119.0",
         "119.0"
        ],
        [
         "mean",
         null,
         "29.801375167602497",
         "32.55908285586626",
         "0.030407685899429167"
        ],
        [
         "std",
         null,
         "3.466457541182365",
         "3.7162644048878266",
         "0.008043847218712598"
        ],
        [
         "min",
         null,
         "24.002606777289753",
         "26.38956204045428",
         "0.014708202841239332"
        ],
        [
         "25%",
         null,
         "26.82853245535354",
         "29.486446819073013",
         "0.025272008356166185"
        ],
        [
         "50%",
         null,
         "29.31334498027145",
         "32.10312156891895",
         "0.031119985899904265"
        ],
        [
         "75%",
         null,
         "31.375612128862436",
         "34.24042227378621",
         "0.036503510021375564"
        ],
        [
         "max",
         null,
         "38.582627497719216",
         "42.054857617858964",
         "0.04880147089472058"
        ]
       ],
       "shape": {
        "columns": 4,
        "rows": 8
       }
      },
      "text/html": [
       "<div>\n",
       "<style scoped>\n",
       "    .dataframe tbody tr th:only-of-type {\n",
       "        vertical-align: middle;\n",
       "    }\n",
       "\n",
       "    .dataframe tbody tr th {\n",
       "        vertical-align: top;\n",
       "    }\n",
       "\n",
       "    .dataframe thead th {\n",
       "        text-align: right;\n",
       "    }\n",
       "</style>\n",
       "<table border=\"1\" class=\"dataframe\">\n",
       "  <thead>\n",
       "    <tr style=\"text-align: right;\">\n",
       "      <th></th>\n",
       "      <th>ret</th>\n",
       "      <th>cape</th>\n",
       "      <th>trcape</th>\n",
       "      <th>ecy</th>\n",
       "    </tr>\n",
       "  </thead>\n",
       "  <tbody>\n",
       "    <tr>\n",
       "      <th>count</th>\n",
       "      <td>0.0</td>\n",
       "      <td>119.000000</td>\n",
       "      <td>119.000000</td>\n",
       "      <td>119.000000</td>\n",
       "    </tr>\n",
       "    <tr>\n",
       "      <th>mean</th>\n",
       "      <td>NaN</td>\n",
       "      <td>29.801375</td>\n",
       "      <td>32.559083</td>\n",
       "      <td>0.030408</td>\n",
       "    </tr>\n",
       "    <tr>\n",
       "      <th>std</th>\n",
       "      <td>NaN</td>\n",
       "      <td>3.466458</td>\n",
       "      <td>3.716264</td>\n",
       "      <td>0.008044</td>\n",
       "    </tr>\n",
       "    <tr>\n",
       "      <th>min</th>\n",
       "      <td>NaN</td>\n",
       "      <td>24.002607</td>\n",
       "      <td>26.389562</td>\n",
       "      <td>0.014708</td>\n",
       "    </tr>\n",
       "    <tr>\n",
       "      <th>25%</th>\n",
       "      <td>NaN</td>\n",
       "      <td>26.828532</td>\n",
       "      <td>29.486447</td>\n",
       "      <td>0.025272</td>\n",
       "    </tr>\n",
       "    <tr>\n",
       "      <th>50%</th>\n",
       "      <td>NaN</td>\n",
       "      <td>29.313345</td>\n",
       "      <td>32.103122</td>\n",
       "      <td>0.031120</td>\n",
       "    </tr>\n",
       "    <tr>\n",
       "      <th>75%</th>\n",
       "      <td>NaN</td>\n",
       "      <td>31.375612</td>\n",
       "      <td>34.240422</td>\n",
       "      <td>0.036504</td>\n",
       "    </tr>\n",
       "    <tr>\n",
       "      <th>max</th>\n",
       "      <td>NaN</td>\n",
       "      <td>38.582627</td>\n",
       "      <td>42.054858</td>\n",
       "      <td>0.048801</td>\n",
       "    </tr>\n",
       "  </tbody>\n",
       "</table>\n",
       "</div>"
      ],
      "text/plain": [
       "       ret        cape      trcape         ecy\n",
       "count  0.0  119.000000  119.000000  119.000000\n",
       "mean   NaN   29.801375   32.559083    0.030408\n",
       "std    NaN    3.466458    3.716264    0.008044\n",
       "min    NaN   24.002607   26.389562    0.014708\n",
       "25%    NaN   26.828532   29.486447    0.025272\n",
       "50%    NaN   29.313345   32.103122    0.031120\n",
       "75%    NaN   31.375612   34.240422    0.036504\n",
       "max    NaN   38.582627   42.054858    0.048801"
      ]
     },
     "execution_count": 114,
     "metadata": {},
     "output_type": "execute_result"
    }
   ],
   "source": [
    "test = df[df.index > datetime(2014,3,1)]\n",
    "test.describe()"
   ]
  },
  {
   "cell_type": "markdown",
   "id": "c134fe2b",
   "metadata": {},
   "source": [
    "## Part 1: OLS Model\n",
    "### Model 0"
   ]
  },
  {
   "cell_type": "code",
   "execution_count": 115,
   "id": "e0ac5392",
   "metadata": {},
   "outputs": [
    {
     "data": {
      "text/html": [
       "<table class=\"simpletable\">\n",
       "<caption>OLS Regression Results</caption>\n",
       "<tr>\n",
       "  <th>Dep. Variable:</th>           <td>ret</td>       <th>  R-squared:         </th> <td>   0.265</td> \n",
       "</tr>\n",
       "<tr>\n",
       "  <th>Model:</th>                   <td>OLS</td>       <th>  Adj. R-squared:    </th> <td>   0.265</td> \n",
       "</tr>\n",
       "<tr>\n",
       "  <th>Method:</th>             <td>Least Squares</td>  <th>  F-statistic:       </th> <td>   576.6</td> \n",
       "</tr>\n",
       "<tr>\n",
       "  <th>Date:</th>             <td>Mon, 21 Apr 2025</td> <th>  Prob (F-statistic):</th> <td>4.82e-109</td>\n",
       "</tr>\n",
       "<tr>\n",
       "  <th>Time:</th>                 <td>21:39:46</td>     <th>  Log-Likelihood:    </th> <td>  2717.7</td> \n",
       "</tr>\n",
       "<tr>\n",
       "  <th>No. Observations:</th>      <td>  1599</td>      <th>  AIC:               </th> <td>  -5431.</td> \n",
       "</tr>\n",
       "<tr>\n",
       "  <th>Df Residuals:</th>          <td>  1597</td>      <th>  BIC:               </th> <td>  -5421.</td> \n",
       "</tr>\n",
       "<tr>\n",
       "  <th>Df Model:</th>              <td>     1</td>      <th>                     </th>     <td> </td>    \n",
       "</tr>\n",
       "<tr>\n",
       "  <th>Covariance Type:</th>      <td>nonrobust</td>    <th>                     </th>     <td> </td>    \n",
       "</tr>\n",
       "</table>\n",
       "<table class=\"simpletable\">\n",
       "<tr>\n",
       "      <td></td>         <th>coef</th>     <th>std err</th>      <th>t</th>      <th>P>|t|</th>  <th>[0.025</th>    <th>0.975]</th>  \n",
       "</tr>\n",
       "<tr>\n",
       "  <th>Intercept</th> <td>    0.1335</td> <td>    0.003</td> <td>   44.511</td> <td> 0.000</td> <td>    0.128</td> <td>    0.139</td>\n",
       "</tr>\n",
       "<tr>\n",
       "  <th>cape</th>      <td>   -0.0041</td> <td>    0.000</td> <td>  -24.013</td> <td> 0.000</td> <td>   -0.004</td> <td>   -0.004</td>\n",
       "</tr>\n",
       "</table>\n",
       "<table class=\"simpletable\">\n",
       "<tr>\n",
       "  <th>Omnibus:</th>       <td>34.335</td> <th>  Durbin-Watson:     </th> <td>   0.039</td>\n",
       "</tr>\n",
       "<tr>\n",
       "  <th>Prob(Omnibus):</th> <td> 0.000</td> <th>  Jarque-Bera (JB):  </th> <td>  30.147</td>\n",
       "</tr>\n",
       "<tr>\n",
       "  <th>Skew:</th>          <td>-0.277</td> <th>  Prob(JB):          </th> <td>2.84e-07</td>\n",
       "</tr>\n",
       "<tr>\n",
       "  <th>Kurtosis:</th>      <td> 2.619</td> <th>  Cond. No.          </th> <td>    48.3</td>\n",
       "</tr>\n",
       "</table><br/><br/>Notes:<br/>[1] Standard Errors assume that the covariance matrix of the errors is correctly specified."
      ],
      "text/latex": [
       "\\begin{center}\n",
       "\\begin{tabular}{lclc}\n",
       "\\toprule\n",
       "\\textbf{Dep. Variable:}    &       ret        & \\textbf{  R-squared:         } &     0.265   \\\\\n",
       "\\textbf{Model:}            &       OLS        & \\textbf{  Adj. R-squared:    } &     0.265   \\\\\n",
       "\\textbf{Method:}           &  Least Squares   & \\textbf{  F-statistic:       } &     576.6   \\\\\n",
       "\\textbf{Date:}             & Mon, 21 Apr 2025 & \\textbf{  Prob (F-statistic):} & 4.82e-109   \\\\\n",
       "\\textbf{Time:}             &     21:39:46     & \\textbf{  Log-Likelihood:    } &    2717.7   \\\\\n",
       "\\textbf{No. Observations:} &        1599      & \\textbf{  AIC:               } &    -5431.   \\\\\n",
       "\\textbf{Df Residuals:}     &        1597      & \\textbf{  BIC:               } &    -5421.   \\\\\n",
       "\\textbf{Df Model:}         &           1      & \\textbf{                     } &             \\\\\n",
       "\\textbf{Covariance Type:}  &    nonrobust     & \\textbf{                     } &             \\\\\n",
       "\\bottomrule\n",
       "\\end{tabular}\n",
       "\\begin{tabular}{lcccccc}\n",
       "                   & \\textbf{coef} & \\textbf{std err} & \\textbf{t} & \\textbf{P$> |$t$|$} & \\textbf{[0.025} & \\textbf{0.975]}  \\\\\n",
       "\\midrule\n",
       "\\textbf{Intercept} &       0.1335  &        0.003     &    44.511  &         0.000        &        0.128    &        0.139     \\\\\n",
       "\\textbf{cape}      &      -0.0041  &        0.000     &   -24.013  &         0.000        &       -0.004    &       -0.004     \\\\\n",
       "\\bottomrule\n",
       "\\end{tabular}\n",
       "\\begin{tabular}{lclc}\n",
       "\\textbf{Omnibus:}       & 34.335 & \\textbf{  Durbin-Watson:     } &    0.039  \\\\\n",
       "\\textbf{Prob(Omnibus):} &  0.000 & \\textbf{  Jarque-Bera (JB):  } &   30.147  \\\\\n",
       "\\textbf{Skew:}          & -0.277 & \\textbf{  Prob(JB):          } & 2.84e-07  \\\\\n",
       "\\textbf{Kurtosis:}      &  2.619 & \\textbf{  Cond. No.          } &     48.3  \\\\\n",
       "\\bottomrule\n",
       "\\end{tabular}\n",
       "%\\caption{OLS Regression Results}\n",
       "\\end{center}\n",
       "\n",
       "Notes: \\newline\n",
       " [1] Standard Errors assume that the covariance matrix of the errors is correctly specified."
      ],
      "text/plain": [
       "<class 'statsmodels.iolib.summary.Summary'>\n",
       "\"\"\"\n",
       "                            OLS Regression Results                            \n",
       "==============================================================================\n",
       "Dep. Variable:                    ret   R-squared:                       0.265\n",
       "Model:                            OLS   Adj. R-squared:                  0.265\n",
       "Method:                 Least Squares   F-statistic:                     576.6\n",
       "Date:                Mon, 21 Apr 2025   Prob (F-statistic):          4.82e-109\n",
       "Time:                        21:39:46   Log-Likelihood:                 2717.7\n",
       "No. Observations:                1599   AIC:                            -5431.\n",
       "Df Residuals:                    1597   BIC:                            -5421.\n",
       "Df Model:                           1                                         \n",
       "Covariance Type:            nonrobust                                         \n",
       "==============================================================================\n",
       "                 coef    std err          t      P>|t|      [0.025      0.975]\n",
       "------------------------------------------------------------------------------\n",
       "Intercept      0.1335      0.003     44.511      0.000       0.128       0.139\n",
       "cape          -0.0041      0.000    -24.013      0.000      -0.004      -0.004\n",
       "==============================================================================\n",
       "Omnibus:                       34.335   Durbin-Watson:                   0.039\n",
       "Prob(Omnibus):                  0.000   Jarque-Bera (JB):               30.147\n",
       "Skew:                          -0.277   Prob(JB):                     2.84e-07\n",
       "Kurtosis:                       2.619   Cond. No.                         48.3\n",
       "==============================================================================\n",
       "\n",
       "Notes:\n",
       "[1] Standard Errors assume that the covariance matrix of the errors is correctly specified.\n",
       "\"\"\""
      ]
     },
     "execution_count": 115,
     "metadata": {},
     "output_type": "execute_result"
    }
   ],
   "source": [
    "mod0 = smf.ols(formula='ret ~ cape', data=train)\n",
    "res0 = mod0.fit()\n",
    "res0.summary()"
   ]
  },
  {
   "cell_type": "markdown",
   "id": "bc02e4fb",
   "metadata": {},
   "source": [
    "## Model 2"
   ]
  },
  {
   "cell_type": "code",
   "execution_count": 116,
   "id": "944a6615",
   "metadata": {},
   "outputs": [
    {
     "data": {
      "text/html": [
       "<table class=\"simpletable\">\n",
       "<caption>OLS Regression Results</caption>\n",
       "<tr>\n",
       "  <th>Dep. Variable:</th>           <td>ret</td>       <th>  R-squared:         </th> <td>   0.282</td> \n",
       "</tr>\n",
       "<tr>\n",
       "  <th>Model:</th>                   <td>OLS</td>       <th>  Adj. R-squared:    </th> <td>   0.281</td> \n",
       "</tr>\n",
       "<tr>\n",
       "  <th>Method:</th>             <td>Least Squares</td>  <th>  F-statistic:       </th> <td>   626.5</td> \n",
       "</tr>\n",
       "<tr>\n",
       "  <th>Date:</th>             <td>Mon, 21 Apr 2025</td> <th>  Prob (F-statistic):</th> <td>6.32e-117</td>\n",
       "</tr>\n",
       "<tr>\n",
       "  <th>Time:</th>                 <td>21:39:46</td>     <th>  Log-Likelihood:    </th> <td>  2735.9</td> \n",
       "</tr>\n",
       "<tr>\n",
       "  <th>No. Observations:</th>      <td>  1599</td>      <th>  AIC:               </th> <td>  -5468.</td> \n",
       "</tr>\n",
       "<tr>\n",
       "  <th>Df Residuals:</th>          <td>  1597</td>      <th>  BIC:               </th> <td>  -5457.</td> \n",
       "</tr>\n",
       "<tr>\n",
       "  <th>Df Model:</th>              <td>     1</td>      <th>                     </th>     <td> </td>    \n",
       "</tr>\n",
       "<tr>\n",
       "  <th>Covariance Type:</th>      <td>nonrobust</td>    <th>                     </th>     <td> </td>    \n",
       "</tr>\n",
       "</table>\n",
       "<table class=\"simpletable\">\n",
       "<tr>\n",
       "      <td></td>         <th>coef</th>     <th>std err</th>      <th>t</th>      <th>P>|t|</th>  <th>[0.025</th>    <th>0.975]</th>  \n",
       "</tr>\n",
       "<tr>\n",
       "  <th>Intercept</th> <td>    0.1464</td> <td>    0.003</td> <td>   43.424</td> <td> 0.000</td> <td>    0.140</td> <td>    0.153</td>\n",
       "</tr>\n",
       "<tr>\n",
       "  <th>trcape</th>    <td>   -0.0040</td> <td>    0.000</td> <td>  -25.030</td> <td> 0.000</td> <td>   -0.004</td> <td>   -0.004</td>\n",
       "</tr>\n",
       "</table>\n",
       "<table class=\"simpletable\">\n",
       "<tr>\n",
       "  <th>Omnibus:</th>       <td>40.757</td> <th>  Durbin-Watson:     </th> <td>   0.038</td>\n",
       "</tr>\n",
       "<tr>\n",
       "  <th>Prob(Omnibus):</th> <td> 0.000</td> <th>  Jarque-Bera (JB):  </th> <td>  40.066</td>\n",
       "</tr>\n",
       "<tr>\n",
       "  <th>Skew:</th>          <td>-0.355</td> <th>  Prob(JB):          </th> <td>1.99e-09</td>\n",
       "</tr>\n",
       "<tr>\n",
       "  <th>Kurtosis:</th>      <td> 2.686</td> <th>  Cond. No.          </th> <td>    65.3</td>\n",
       "</tr>\n",
       "</table><br/><br/>Notes:<br/>[1] Standard Errors assume that the covariance matrix of the errors is correctly specified."
      ],
      "text/latex": [
       "\\begin{center}\n",
       "\\begin{tabular}{lclc}\n",
       "\\toprule\n",
       "\\textbf{Dep. Variable:}    &       ret        & \\textbf{  R-squared:         } &     0.282   \\\\\n",
       "\\textbf{Model:}            &       OLS        & \\textbf{  Adj. R-squared:    } &     0.281   \\\\\n",
       "\\textbf{Method:}           &  Least Squares   & \\textbf{  F-statistic:       } &     626.5   \\\\\n",
       "\\textbf{Date:}             & Mon, 21 Apr 2025 & \\textbf{  Prob (F-statistic):} & 6.32e-117   \\\\\n",
       "\\textbf{Time:}             &     21:39:46     & \\textbf{  Log-Likelihood:    } &    2735.9   \\\\\n",
       "\\textbf{No. Observations:} &        1599      & \\textbf{  AIC:               } &    -5468.   \\\\\n",
       "\\textbf{Df Residuals:}     &        1597      & \\textbf{  BIC:               } &    -5457.   \\\\\n",
       "\\textbf{Df Model:}         &           1      & \\textbf{                     } &             \\\\\n",
       "\\textbf{Covariance Type:}  &    nonrobust     & \\textbf{                     } &             \\\\\n",
       "\\bottomrule\n",
       "\\end{tabular}\n",
       "\\begin{tabular}{lcccccc}\n",
       "                   & \\textbf{coef} & \\textbf{std err} & \\textbf{t} & \\textbf{P$> |$t$|$} & \\textbf{[0.025} & \\textbf{0.975]}  \\\\\n",
       "\\midrule\n",
       "\\textbf{Intercept} &       0.1464  &        0.003     &    43.424  &         0.000        &        0.140    &        0.153     \\\\\n",
       "\\textbf{trcape}    &      -0.0040  &        0.000     &   -25.030  &         0.000        &       -0.004    &       -0.004     \\\\\n",
       "\\bottomrule\n",
       "\\end{tabular}\n",
       "\\begin{tabular}{lclc}\n",
       "\\textbf{Omnibus:}       & 40.757 & \\textbf{  Durbin-Watson:     } &    0.038  \\\\\n",
       "\\textbf{Prob(Omnibus):} &  0.000 & \\textbf{  Jarque-Bera (JB):  } &   40.066  \\\\\n",
       "\\textbf{Skew:}          & -0.355 & \\textbf{  Prob(JB):          } & 1.99e-09  \\\\\n",
       "\\textbf{Kurtosis:}      &  2.686 & \\textbf{  Cond. No.          } &     65.3  \\\\\n",
       "\\bottomrule\n",
       "\\end{tabular}\n",
       "%\\caption{OLS Regression Results}\n",
       "\\end{center}\n",
       "\n",
       "Notes: \\newline\n",
       " [1] Standard Errors assume that the covariance matrix of the errors is correctly specified."
      ],
      "text/plain": [
       "<class 'statsmodels.iolib.summary.Summary'>\n",
       "\"\"\"\n",
       "                            OLS Regression Results                            \n",
       "==============================================================================\n",
       "Dep. Variable:                    ret   R-squared:                       0.282\n",
       "Model:                            OLS   Adj. R-squared:                  0.281\n",
       "Method:                 Least Squares   F-statistic:                     626.5\n",
       "Date:                Mon, 21 Apr 2025   Prob (F-statistic):          6.32e-117\n",
       "Time:                        21:39:46   Log-Likelihood:                 2735.9\n",
       "No. Observations:                1599   AIC:                            -5468.\n",
       "Df Residuals:                    1597   BIC:                            -5457.\n",
       "Df Model:                           1                                         \n",
       "Covariance Type:            nonrobust                                         \n",
       "==============================================================================\n",
       "                 coef    std err          t      P>|t|      [0.025      0.975]\n",
       "------------------------------------------------------------------------------\n",
       "Intercept      0.1464      0.003     43.424      0.000       0.140       0.153\n",
       "trcape        -0.0040      0.000    -25.030      0.000      -0.004      -0.004\n",
       "==============================================================================\n",
       "Omnibus:                       40.757   Durbin-Watson:                   0.038\n",
       "Prob(Omnibus):                  0.000   Jarque-Bera (JB):               40.066\n",
       "Skew:                          -0.355   Prob(JB):                     1.99e-09\n",
       "Kurtosis:                       2.686   Cond. No.                         65.3\n",
       "==============================================================================\n",
       "\n",
       "Notes:\n",
       "[1] Standard Errors assume that the covariance matrix of the errors is correctly specified.\n",
       "\"\"\""
      ]
     },
     "execution_count": 116,
     "metadata": {},
     "output_type": "execute_result"
    }
   ],
   "source": [
    "mod1 = smf.ols(formula='ret ~ trcape', data=train)\n",
    "res1 = mod1.fit()\n",
    "res1.summary()"
   ]
  },
  {
   "cell_type": "markdown",
   "id": "9b19e74f",
   "metadata": {},
   "source": [
    "## Model 2"
   ]
  },
  {
   "cell_type": "code",
   "execution_count": 117,
   "id": "87eb875f",
   "metadata": {},
   "outputs": [
    {
     "data": {
      "text/html": [
       "<table class=\"simpletable\">\n",
       "<caption>OLS Regression Results</caption>\n",
       "<tr>\n",
       "  <th>Dep. Variable:</th>           <td>ret</td>       <th>  R-squared:         </th> <td>   0.340</td> \n",
       "</tr>\n",
       "<tr>\n",
       "  <th>Model:</th>                   <td>OLS</td>       <th>  Adj. R-squared:    </th> <td>   0.339</td> \n",
       "</tr>\n",
       "<tr>\n",
       "  <th>Method:</th>             <td>Least Squares</td>  <th>  F-statistic:       </th> <td>   821.5</td> \n",
       "</tr>\n",
       "<tr>\n",
       "  <th>Date:</th>             <td>Mon, 21 Apr 2025</td> <th>  Prob (F-statistic):</th> <td>4.07e-146</td>\n",
       "</tr>\n",
       "<tr>\n",
       "  <th>Time:</th>                 <td>21:39:46</td>     <th>  Log-Likelihood:    </th> <td>  2803.1</td> \n",
       "</tr>\n",
       "<tr>\n",
       "  <th>No. Observations:</th>      <td>  1599</td>      <th>  AIC:               </th> <td>  -5602.</td> \n",
       "</tr>\n",
       "<tr>\n",
       "  <th>Df Residuals:</th>          <td>  1597</td>      <th>  BIC:               </th> <td>  -5591.</td> \n",
       "</tr>\n",
       "<tr>\n",
       "  <th>Df Model:</th>              <td>     1</td>      <th>                     </th>     <td> </td>    \n",
       "</tr>\n",
       "<tr>\n",
       "  <th>Covariance Type:</th>      <td>nonrobust</td>    <th>                     </th>     <td> </td>    \n",
       "</tr>\n",
       "</table>\n",
       "<table class=\"simpletable\">\n",
       "<tr>\n",
       "      <td></td>         <th>coef</th>     <th>std err</th>      <th>t</th>      <th>P>|t|</th>  <th>[0.025</th>    <th>0.975]</th>  \n",
       "</tr>\n",
       "<tr>\n",
       "  <th>Intercept</th> <td>    0.0350</td> <td>    0.002</td> <td>   23.000</td> <td> 0.000</td> <td>    0.032</td> <td>    0.038</td>\n",
       "</tr>\n",
       "<tr>\n",
       "  <th>ecy</th>       <td>    0.6635</td> <td>    0.023</td> <td>   28.662</td> <td> 0.000</td> <td>    0.618</td> <td>    0.709</td>\n",
       "</tr>\n",
       "</table>\n",
       "<table class=\"simpletable\">\n",
       "<tr>\n",
       "  <th>Omnibus:</th>       <td>36.522</td> <th>  Durbin-Watson:     </th> <td>   0.047</td>\n",
       "</tr>\n",
       "<tr>\n",
       "  <th>Prob(Omnibus):</th> <td> 0.000</td> <th>  Jarque-Bera (JB):  </th> <td>  36.466</td>\n",
       "</tr>\n",
       "<tr>\n",
       "  <th>Skew:</th>          <td>-0.343</td> <th>  Prob(JB):          </th> <td>1.21e-08</td>\n",
       "</tr>\n",
       "<tr>\n",
       "  <th>Kurtosis:</th>      <td> 2.722</td> <th>  Cond. No.          </th> <td>    22.1</td>\n",
       "</tr>\n",
       "</table><br/><br/>Notes:<br/>[1] Standard Errors assume that the covariance matrix of the errors is correctly specified."
      ],
      "text/latex": [
       "\\begin{center}\n",
       "\\begin{tabular}{lclc}\n",
       "\\toprule\n",
       "\\textbf{Dep. Variable:}    &       ret        & \\textbf{  R-squared:         } &     0.340   \\\\\n",
       "\\textbf{Model:}            &       OLS        & \\textbf{  Adj. R-squared:    } &     0.339   \\\\\n",
       "\\textbf{Method:}           &  Least Squares   & \\textbf{  F-statistic:       } &     821.5   \\\\\n",
       "\\textbf{Date:}             & Mon, 21 Apr 2025 & \\textbf{  Prob (F-statistic):} & 4.07e-146   \\\\\n",
       "\\textbf{Time:}             &     21:39:46     & \\textbf{  Log-Likelihood:    } &    2803.1   \\\\\n",
       "\\textbf{No. Observations:} &        1599      & \\textbf{  AIC:               } &    -5602.   \\\\\n",
       "\\textbf{Df Residuals:}     &        1597      & \\textbf{  BIC:               } &    -5591.   \\\\\n",
       "\\textbf{Df Model:}         &           1      & \\textbf{                     } &             \\\\\n",
       "\\textbf{Covariance Type:}  &    nonrobust     & \\textbf{                     } &             \\\\\n",
       "\\bottomrule\n",
       "\\end{tabular}\n",
       "\\begin{tabular}{lcccccc}\n",
       "                   & \\textbf{coef} & \\textbf{std err} & \\textbf{t} & \\textbf{P$> |$t$|$} & \\textbf{[0.025} & \\textbf{0.975]}  \\\\\n",
       "\\midrule\n",
       "\\textbf{Intercept} &       0.0350  &        0.002     &    23.000  &         0.000        &        0.032    &        0.038     \\\\\n",
       "\\textbf{ecy}       &       0.6635  &        0.023     &    28.662  &         0.000        &        0.618    &        0.709     \\\\\n",
       "\\bottomrule\n",
       "\\end{tabular}\n",
       "\\begin{tabular}{lclc}\n",
       "\\textbf{Omnibus:}       & 36.522 & \\textbf{  Durbin-Watson:     } &    0.047  \\\\\n",
       "\\textbf{Prob(Omnibus):} &  0.000 & \\textbf{  Jarque-Bera (JB):  } &   36.466  \\\\\n",
       "\\textbf{Skew:}          & -0.343 & \\textbf{  Prob(JB):          } & 1.21e-08  \\\\\n",
       "\\textbf{Kurtosis:}      &  2.722 & \\textbf{  Cond. No.          } &     22.1  \\\\\n",
       "\\bottomrule\n",
       "\\end{tabular}\n",
       "%\\caption{OLS Regression Results}\n",
       "\\end{center}\n",
       "\n",
       "Notes: \\newline\n",
       " [1] Standard Errors assume that the covariance matrix of the errors is correctly specified."
      ],
      "text/plain": [
       "<class 'statsmodels.iolib.summary.Summary'>\n",
       "\"\"\"\n",
       "                            OLS Regression Results                            \n",
       "==============================================================================\n",
       "Dep. Variable:                    ret   R-squared:                       0.340\n",
       "Model:                            OLS   Adj. R-squared:                  0.339\n",
       "Method:                 Least Squares   F-statistic:                     821.5\n",
       "Date:                Mon, 21 Apr 2025   Prob (F-statistic):          4.07e-146\n",
       "Time:                        21:39:46   Log-Likelihood:                 2803.1\n",
       "No. Observations:                1599   AIC:                            -5602.\n",
       "Df Residuals:                    1597   BIC:                            -5591.\n",
       "Df Model:                           1                                         \n",
       "Covariance Type:            nonrobust                                         \n",
       "==============================================================================\n",
       "                 coef    std err          t      P>|t|      [0.025      0.975]\n",
       "------------------------------------------------------------------------------\n",
       "Intercept      0.0350      0.002     23.000      0.000       0.032       0.038\n",
       "ecy            0.6635      0.023     28.662      0.000       0.618       0.709\n",
       "==============================================================================\n",
       "Omnibus:                       36.522   Durbin-Watson:                   0.047\n",
       "Prob(Omnibus):                  0.000   Jarque-Bera (JB):               36.466\n",
       "Skew:                          -0.343   Prob(JB):                     1.21e-08\n",
       "Kurtosis:                       2.722   Cond. No.                         22.1\n",
       "==============================================================================\n",
       "\n",
       "Notes:\n",
       "[1] Standard Errors assume that the covariance matrix of the errors is correctly specified.\n",
       "\"\"\""
      ]
     },
     "execution_count": 117,
     "metadata": {},
     "output_type": "execute_result"
    }
   ],
   "source": [
    "mod2 = smf.ols(formula='ret ~ ecy', data=train)\n",
    "res2 = mod2.fit()\n",
    "res2.summary()"
   ]
  },
  {
   "cell_type": "markdown",
   "id": "c6d677e3",
   "metadata": {},
   "source": [
    "## Model 3"
   ]
  },
  {
   "cell_type": "code",
   "execution_count": 118,
   "id": "2b67df20",
   "metadata": {},
   "outputs": [
    {
     "data": {
      "text/html": [
       "<table class=\"simpletable\">\n",
       "<caption>OLS Regression Results</caption>\n",
       "<tr>\n",
       "  <th>Dep. Variable:</th>           <td>ret</td>       <th>  R-squared:         </th> <td>   0.364</td> \n",
       "</tr>\n",
       "<tr>\n",
       "  <th>Model:</th>                   <td>OLS</td>       <th>  Adj. R-squared:    </th> <td>   0.364</td> \n",
       "</tr>\n",
       "<tr>\n",
       "  <th>Method:</th>             <td>Least Squares</td>  <th>  F-statistic:       </th> <td>   457.3</td> \n",
       "</tr>\n",
       "<tr>\n",
       "  <th>Date:</th>             <td>Mon, 21 Apr 2025</td> <th>  Prob (F-statistic):</th> <td>9.81e-158</td>\n",
       "</tr>\n",
       "<tr>\n",
       "  <th>Time:</th>                 <td>21:39:46</td>     <th>  Log-Likelihood:    </th> <td>  2833.5</td> \n",
       "</tr>\n",
       "<tr>\n",
       "  <th>No. Observations:</th>      <td>  1599</td>      <th>  AIC:               </th> <td>  -5661.</td> \n",
       "</tr>\n",
       "<tr>\n",
       "  <th>Df Residuals:</th>          <td>  1596</td>      <th>  BIC:               </th> <td>  -5645.</td> \n",
       "</tr>\n",
       "<tr>\n",
       "  <th>Df Model:</th>              <td>     2</td>      <th>                     </th>     <td> </td>    \n",
       "</tr>\n",
       "<tr>\n",
       "  <th>Covariance Type:</th>      <td>nonrobust</td>    <th>                     </th>     <td> </td>    \n",
       "</tr>\n",
       "</table>\n",
       "<table class=\"simpletable\">\n",
       "<tr>\n",
       "      <td></td>         <th>coef</th>     <th>std err</th>      <th>t</th>      <th>P>|t|</th>  <th>[0.025</th>    <th>0.975]</th>  \n",
       "</tr>\n",
       "<tr>\n",
       "  <th>Intercept</th> <td>    0.0782</td> <td>    0.006</td> <td>   13.729</td> <td> 0.000</td> <td>    0.067</td> <td>    0.089</td>\n",
       "</tr>\n",
       "<tr>\n",
       "  <th>trcape</th>    <td>   -0.0017</td> <td>    0.000</td> <td>   -7.864</td> <td> 0.000</td> <td>   -0.002</td> <td>   -0.001</td>\n",
       "</tr>\n",
       "<tr>\n",
       "  <th>ecy</th>       <td>    0.4752</td> <td>    0.033</td> <td>   14.395</td> <td> 0.000</td> <td>    0.410</td> <td>    0.540</td>\n",
       "</tr>\n",
       "</table>\n",
       "<table class=\"simpletable\">\n",
       "<tr>\n",
       "  <th>Omnibus:</th>       <td>43.071</td> <th>  Durbin-Watson:     </th> <td>   0.043</td>\n",
       "</tr>\n",
       "<tr>\n",
       "  <th>Prob(Omnibus):</th> <td> 0.000</td> <th>  Jarque-Bera (JB):  </th> <td>  45.741</td>\n",
       "</tr>\n",
       "<tr>\n",
       "  <th>Skew:</th>          <td>-0.406</td> <th>  Prob(JB):          </th> <td>1.17e-10</td>\n",
       "</tr>\n",
       "<tr>\n",
       "  <th>Kurtosis:</th>      <td> 2.834</td> <th>  Cond. No.          </th> <td>    686.</td>\n",
       "</tr>\n",
       "</table><br/><br/>Notes:<br/>[1] Standard Errors assume that the covariance matrix of the errors is correctly specified."
      ],
      "text/latex": [
       "\\begin{center}\n",
       "\\begin{tabular}{lclc}\n",
       "\\toprule\n",
       "\\textbf{Dep. Variable:}    &       ret        & \\textbf{  R-squared:         } &     0.364   \\\\\n",
       "\\textbf{Model:}            &       OLS        & \\textbf{  Adj. R-squared:    } &     0.364   \\\\\n",
       "\\textbf{Method:}           &  Least Squares   & \\textbf{  F-statistic:       } &     457.3   \\\\\n",
       "\\textbf{Date:}             & Mon, 21 Apr 2025 & \\textbf{  Prob (F-statistic):} & 9.81e-158   \\\\\n",
       "\\textbf{Time:}             &     21:39:46     & \\textbf{  Log-Likelihood:    } &    2833.5   \\\\\n",
       "\\textbf{No. Observations:} &        1599      & \\textbf{  AIC:               } &    -5661.   \\\\\n",
       "\\textbf{Df Residuals:}     &        1596      & \\textbf{  BIC:               } &    -5645.   \\\\\n",
       "\\textbf{Df Model:}         &           2      & \\textbf{                     } &             \\\\\n",
       "\\textbf{Covariance Type:}  &    nonrobust     & \\textbf{                     } &             \\\\\n",
       "\\bottomrule\n",
       "\\end{tabular}\n",
       "\\begin{tabular}{lcccccc}\n",
       "                   & \\textbf{coef} & \\textbf{std err} & \\textbf{t} & \\textbf{P$> |$t$|$} & \\textbf{[0.025} & \\textbf{0.975]}  \\\\\n",
       "\\midrule\n",
       "\\textbf{Intercept} &       0.0782  &        0.006     &    13.729  &         0.000        &        0.067    &        0.089     \\\\\n",
       "\\textbf{trcape}    &      -0.0017  &        0.000     &    -7.864  &         0.000        &       -0.002    &       -0.001     \\\\\n",
       "\\textbf{ecy}       &       0.4752  &        0.033     &    14.395  &         0.000        &        0.410    &        0.540     \\\\\n",
       "\\bottomrule\n",
       "\\end{tabular}\n",
       "\\begin{tabular}{lclc}\n",
       "\\textbf{Omnibus:}       & 43.071 & \\textbf{  Durbin-Watson:     } &    0.043  \\\\\n",
       "\\textbf{Prob(Omnibus):} &  0.000 & \\textbf{  Jarque-Bera (JB):  } &   45.741  \\\\\n",
       "\\textbf{Skew:}          & -0.406 & \\textbf{  Prob(JB):          } & 1.17e-10  \\\\\n",
       "\\textbf{Kurtosis:}      &  2.834 & \\textbf{  Cond. No.          } &     686.  \\\\\n",
       "\\bottomrule\n",
       "\\end{tabular}\n",
       "%\\caption{OLS Regression Results}\n",
       "\\end{center}\n",
       "\n",
       "Notes: \\newline\n",
       " [1] Standard Errors assume that the covariance matrix of the errors is correctly specified."
      ],
      "text/plain": [
       "<class 'statsmodels.iolib.summary.Summary'>\n",
       "\"\"\"\n",
       "                            OLS Regression Results                            \n",
       "==============================================================================\n",
       "Dep. Variable:                    ret   R-squared:                       0.364\n",
       "Model:                            OLS   Adj. R-squared:                  0.364\n",
       "Method:                 Least Squares   F-statistic:                     457.3\n",
       "Date:                Mon, 21 Apr 2025   Prob (F-statistic):          9.81e-158\n",
       "Time:                        21:39:46   Log-Likelihood:                 2833.5\n",
       "No. Observations:                1599   AIC:                            -5661.\n",
       "Df Residuals:                    1596   BIC:                            -5645.\n",
       "Df Model:                           2                                         \n",
       "Covariance Type:            nonrobust                                         \n",
       "==============================================================================\n",
       "                 coef    std err          t      P>|t|      [0.025      0.975]\n",
       "------------------------------------------------------------------------------\n",
       "Intercept      0.0782      0.006     13.729      0.000       0.067       0.089\n",
       "trcape        -0.0017      0.000     -7.864      0.000      -0.002      -0.001\n",
       "ecy            0.4752      0.033     14.395      0.000       0.410       0.540\n",
       "==============================================================================\n",
       "Omnibus:                       43.071   Durbin-Watson:                   0.043\n",
       "Prob(Omnibus):                  0.000   Jarque-Bera (JB):               45.741\n",
       "Skew:                          -0.406   Prob(JB):                     1.17e-10\n",
       "Kurtosis:                       2.834   Cond. No.                         686.\n",
       "==============================================================================\n",
       "\n",
       "Notes:\n",
       "[1] Standard Errors assume that the covariance matrix of the errors is correctly specified.\n",
       "\"\"\""
      ]
     },
     "execution_count": 118,
     "metadata": {},
     "output_type": "execute_result"
    }
   ],
   "source": [
    "mod3 = smf.ols(formula='ret ~ trcape + ecy', data=train)\n",
    "res3 = mod3.fit()\n",
    "res3.summary()"
   ]
  },
  {
   "cell_type": "markdown",
   "id": "f3283e88",
   "metadata": {},
   "source": [
    "## Model Comparison\n",
    "In regards to statistical significance, all four models have significant variables for all their dependent variables, showing very low p values of zero. As far as AIC and R squared values, the fourth model has the lowest AIC and the highest R squared, showing a better fit than the others. Taking into account these observations, the the fourth model (mod3) appears to be the best fit while having statistically significant variables. "
   ]
  },
  {
   "cell_type": "markdown",
   "id": "12c13d79",
   "metadata": {},
   "source": [
    "# Part 2: Rolling OLS Model\n",
    "## Data Manipulation"
   ]
  },
  {
   "cell_type": "code",
   "execution_count": 119,
   "id": "96d00dd0",
   "metadata": {},
   "outputs": [
    {
     "data": {
      "application/vnd.microsoft.datawrangler.viewer.v0+json": {
       "columns": [
        {
         "name": "index",
         "rawType": "object",
         "type": "string"
        },
        {
         "name": "ret",
         "rawType": "float64",
         "type": "float"
        },
        {
         "name": "cape",
         "rawType": "float64",
         "type": "float"
        },
        {
         "name": "trcape",
         "rawType": "float64",
         "type": "float"
        },
        {
         "name": "ecy",
         "rawType": "float64",
         "type": "float"
        }
       ],
       "conversionMethod": "pd.DataFrame",
       "ref": "8b12135b-9b02-492c-97d8-b4978ee2be4d",
       "rows": [
        [
         "count",
         "1428.0",
         "1428.0",
         "1428.0",
         "1428.0"
        ],
        [
         "mean",
         "0.06654835791849109",
         "15.480451922417354",
         "19.105276127758803",
         "0.04993198828978757"
        ],
        [
         "std",
         "0.05233448386763708",
         "5.802716649232095",
         "6.366571742497539",
         "0.04699778756702881"
        ],
        [
         "min",
         "-0.059238835834665604",
         "4.784241045083249",
         "6.582424980866884",
         "-0.02577697882883577"
        ],
        [
         "25%",
         "0.0320499935501643",
         "11.391309992253067",
         "14.69326570721352",
         "0.013938657134521195"
        ],
        [
         "50%",
         "0.06588787760988735",
         "15.19013895633427",
         "19.02792365610123",
         "0.037434010856277705"
        ],
        [
         "75%",
         "0.10305195808360407",
         "18.443387084401152",
         "22.719696836535",
         "0.07456995947292915"
        ],
        [
         "max",
         "0.19958456398027868",
         "44.197939761040566",
         "48.11096868299518",
         "0.2353400608539373"
        ]
       ],
       "shape": {
        "columns": 4,
        "rows": 8
       }
      },
      "text/html": [
       "<div>\n",
       "<style scoped>\n",
       "    .dataframe tbody tr th:only-of-type {\n",
       "        vertical-align: middle;\n",
       "    }\n",
       "\n",
       "    .dataframe tbody tr th {\n",
       "        vertical-align: top;\n",
       "    }\n",
       "\n",
       "    .dataframe thead th {\n",
       "        text-align: right;\n",
       "    }\n",
       "</style>\n",
       "<table border=\"1\" class=\"dataframe\">\n",
       "  <thead>\n",
       "    <tr style=\"text-align: right;\">\n",
       "      <th></th>\n",
       "      <th>ret</th>\n",
       "      <th>cape</th>\n",
       "      <th>trcape</th>\n",
       "      <th>ecy</th>\n",
       "    </tr>\n",
       "  </thead>\n",
       "  <tbody>\n",
       "    <tr>\n",
       "      <th>count</th>\n",
       "      <td>1428.000000</td>\n",
       "      <td>1428.000000</td>\n",
       "      <td>1428.000000</td>\n",
       "      <td>1428.000000</td>\n",
       "    </tr>\n",
       "    <tr>\n",
       "      <th>mean</th>\n",
       "      <td>0.066548</td>\n",
       "      <td>15.480452</td>\n",
       "      <td>19.105276</td>\n",
       "      <td>0.049932</td>\n",
       "    </tr>\n",
       "    <tr>\n",
       "      <th>std</th>\n",
       "      <td>0.052334</td>\n",
       "      <td>5.802717</td>\n",
       "      <td>6.366572</td>\n",
       "      <td>0.046998</td>\n",
       "    </tr>\n",
       "    <tr>\n",
       "      <th>min</th>\n",
       "      <td>-0.059239</td>\n",
       "      <td>4.784241</td>\n",
       "      <td>6.582425</td>\n",
       "      <td>-0.025777</td>\n",
       "    </tr>\n",
       "    <tr>\n",
       "      <th>25%</th>\n",
       "      <td>0.032050</td>\n",
       "      <td>11.391310</td>\n",
       "      <td>14.693266</td>\n",
       "      <td>0.013939</td>\n",
       "    </tr>\n",
       "    <tr>\n",
       "      <th>50%</th>\n",
       "      <td>0.065888</td>\n",
       "      <td>15.190139</td>\n",
       "      <td>19.027924</td>\n",
       "      <td>0.037434</td>\n",
       "    </tr>\n",
       "    <tr>\n",
       "      <th>75%</th>\n",
       "      <td>0.103052</td>\n",
       "      <td>18.443387</td>\n",
       "      <td>22.719697</td>\n",
       "      <td>0.074570</td>\n",
       "    </tr>\n",
       "    <tr>\n",
       "      <th>max</th>\n",
       "      <td>0.199585</td>\n",
       "      <td>44.197940</td>\n",
       "      <td>48.110969</td>\n",
       "      <td>0.235340</td>\n",
       "    </tr>\n",
       "  </tbody>\n",
       "</table>\n",
       "</div>"
      ],
      "text/plain": [
       "               ret         cape       trcape          ecy\n",
       "count  1428.000000  1428.000000  1428.000000  1428.000000\n",
       "mean      0.066548    15.480452    19.105276     0.049932\n",
       "std       0.052334     5.802717     6.366572     0.046998\n",
       "min      -0.059239     4.784241     6.582425    -0.025777\n",
       "25%       0.032050    11.391310    14.693266     0.013939\n",
       "50%       0.065888    15.190139    19.027924     0.037434\n",
       "75%       0.103052    18.443387    22.719697     0.074570\n",
       "max       0.199585    44.197940    48.110969     0.235340"
      ]
     },
     "execution_count": 119,
     "metadata": {},
     "output_type": "execute_result"
    }
   ],
   "source": [
    "train_set = df[df.index <= datetime(1999,12,1)]\n",
    "train_set.describe()"
   ]
  },
  {
   "cell_type": "code",
   "execution_count": 120,
   "id": "22a47270",
   "metadata": {},
   "outputs": [
    {
     "data": {
      "application/vnd.microsoft.datawrangler.viewer.v0+json": {
       "columns": [
        {
         "name": "index",
         "rawType": "object",
         "type": "string"
        },
        {
         "name": "ret",
         "rawType": "float64",
         "type": "float"
        },
        {
         "name": "cape",
         "rawType": "float64",
         "type": "float"
        },
        {
         "name": "trcape",
         "rawType": "float64",
         "type": "float"
        },
        {
         "name": "ecy",
         "rawType": "float64",
         "type": "float"
        }
       ],
       "conversionMethod": "pd.DataFrame",
       "ref": "cc669ed4-c6c3-4d56-a08c-0bef3cdbe59a",
       "rows": [
        [
         "count",
         "159.0",
         "160.0",
         "160.0",
         "160.0"
        ],
        [
         "mean",
         "0.07385996403247787",
         "24.02961845123076",
         "26.112741815307725",
         "0.03085567268511861"
        ],
        [
         "std",
         "0.03832905756667683",
         "4.025607072753956",
         "4.169440758985319",
         "0.01604928144467542"
        ],
        [
         "min",
         "-0.008182341341926302",
         "13.323667656863925",
         "14.59270377246632",
         "0.0020964838742171636"
        ],
        [
         "25%",
         "0.04991597236567846",
         "21.40822568009418",
         "23.578383766507578",
         "0.017772450577326918"
        ],
        [
         "50%",
         "0.059195500626261444",
         "23.928527824234123",
         "26.16646563060184",
         "0.031053022650501444"
        ],
        [
         "75%",
         "0.11081020549858167",
         "26.39107574750624",
         "28.454493261272177",
         "0.042579170610222865"
        ],
        [
         "max",
         "0.14290119686247293",
         "36.97886799702983",
         "39.71280978944712",
         "0.07257764095499664"
        ]
       ],
       "shape": {
        "columns": 4,
        "rows": 8
       }
      },
      "text/html": [
       "<div>\n",
       "<style scoped>\n",
       "    .dataframe tbody tr th:only-of-type {\n",
       "        vertical-align: middle;\n",
       "    }\n",
       "\n",
       "    .dataframe tbody tr th {\n",
       "        vertical-align: top;\n",
       "    }\n",
       "\n",
       "    .dataframe thead th {\n",
       "        text-align: right;\n",
       "    }\n",
       "</style>\n",
       "<table border=\"1\" class=\"dataframe\">\n",
       "  <thead>\n",
       "    <tr style=\"text-align: right;\">\n",
       "      <th></th>\n",
       "      <th>ret</th>\n",
       "      <th>cape</th>\n",
       "      <th>trcape</th>\n",
       "      <th>ecy</th>\n",
       "    </tr>\n",
       "  </thead>\n",
       "  <tbody>\n",
       "    <tr>\n",
       "      <th>count</th>\n",
       "      <td>159.000000</td>\n",
       "      <td>160.000000</td>\n",
       "      <td>160.000000</td>\n",
       "      <td>160.000000</td>\n",
       "    </tr>\n",
       "    <tr>\n",
       "      <th>mean</th>\n",
       "      <td>0.073860</td>\n",
       "      <td>24.029618</td>\n",
       "      <td>26.112742</td>\n",
       "      <td>0.030856</td>\n",
       "    </tr>\n",
       "    <tr>\n",
       "      <th>std</th>\n",
       "      <td>0.038329</td>\n",
       "      <td>4.025607</td>\n",
       "      <td>4.169441</td>\n",
       "      <td>0.016049</td>\n",
       "    </tr>\n",
       "    <tr>\n",
       "      <th>min</th>\n",
       "      <td>-0.008182</td>\n",
       "      <td>13.323668</td>\n",
       "      <td>14.592704</td>\n",
       "      <td>0.002096</td>\n",
       "    </tr>\n",
       "    <tr>\n",
       "      <th>25%</th>\n",
       "      <td>0.049916</td>\n",
       "      <td>21.408226</td>\n",
       "      <td>23.578384</td>\n",
       "      <td>0.017772</td>\n",
       "    </tr>\n",
       "    <tr>\n",
       "      <th>50%</th>\n",
       "      <td>0.059196</td>\n",
       "      <td>23.928528</td>\n",
       "      <td>26.166466</td>\n",
       "      <td>0.031053</td>\n",
       "    </tr>\n",
       "    <tr>\n",
       "      <th>75%</th>\n",
       "      <td>0.110810</td>\n",
       "      <td>26.391076</td>\n",
       "      <td>28.454493</td>\n",
       "      <td>0.042579</td>\n",
       "    </tr>\n",
       "    <tr>\n",
       "      <th>max</th>\n",
       "      <td>0.142901</td>\n",
       "      <td>36.978868</td>\n",
       "      <td>39.712810</td>\n",
       "      <td>0.072578</td>\n",
       "    </tr>\n",
       "  </tbody>\n",
       "</table>\n",
       "</div>"
      ],
      "text/plain": [
       "              ret        cape      trcape         ecy\n",
       "count  159.000000  160.000000  160.000000  160.000000\n",
       "mean     0.073860   24.029618   26.112742    0.030856\n",
       "std      0.038329    4.025607    4.169441    0.016049\n",
       "min     -0.008182   13.323668   14.592704    0.002096\n",
       "25%      0.049916   21.408226   23.578384    0.017772\n",
       "50%      0.059196   23.928528   26.166466    0.031053\n",
       "75%      0.110810   26.391076   28.454493    0.042579\n",
       "max      0.142901   36.978868   39.712810    0.072578"
      ]
     },
     "execution_count": 120,
     "metadata": {},
     "output_type": "execute_result"
    }
   ],
   "source": [
    "test_set = df.loc[datetime(2001,1,1): datetime(2014,3,1),:]\n",
    "test_set.describe()"
   ]
  },
  {
   "cell_type": "markdown",
   "id": "bccad0a5",
   "metadata": {},
   "source": [
    "## Models"
   ]
  },
  {
   "cell_type": "code",
   "execution_count": 121,
   "id": "5ae76d62",
   "metadata": {},
   "outputs": [],
   "source": [
    "models = ['ret ~ cape','ret ~ trcape','ret ~ ecy','ret ~ trcape + ecy']\n",
    "\n",
    "roll_mods = [ \n",
    "    RollingOLS.from_formula(model, data=train_set, window = 1428)\n",
    "    for model in models\n",
    "]"
   ]
  },
  {
   "cell_type": "code",
   "execution_count": 122,
   "id": "932327be",
   "metadata": {},
   "outputs": [
    {
     "data": {
      "text/plain": [
       "Intercept    0.143109\n",
       "cape        -0.004946\n",
       "Name: 1999-12-01 00:00:00, dtype: float64"
      ]
     },
     "execution_count": 122,
     "metadata": {},
     "output_type": "execute_result"
    }
   ],
   "source": [
    "coeffs= [mod.fit().params.iloc[-1,:] for mod in roll_mods]\n",
    "\n",
    "coeffs[0]"
   ]
  },
  {
   "cell_type": "code",
   "execution_count": 123,
   "id": "a62fc9de",
   "metadata": {},
   "outputs": [],
   "source": [
    "preds = pd.DataFrame(test_set.ret)\n",
    "preds['mod0'] = coeffs[0].Intercept + (coeffs[0].cape * test_set.cape)\n",
    "preds['mod1'] = coeffs[1].Intercept + (coeffs[1].trcape * test_set.trcape)\n",
    "preds['mod2'] = coeffs[2].Intercept + (coeffs[2].ecy * test_set.ecy)\n",
    "preds['mod3'] = coeffs[3].Intercept + (coeffs[3].ecy * test_set.ecy) + (coeffs[3].trcape * test_set.trcape)\n",
    "preds =preds.dropna(axis=0)"
   ]
  },
  {
   "cell_type": "code",
   "execution_count": 124,
   "id": "527db9b7",
   "metadata": {},
   "outputs": [
    {
     "name": "stdout",
     "output_type": "stream",
     "text": [
      "RMSE (ret ~ cape): 0.055\n",
      "RMSE (ret ~ trcape): 0.046\n",
      "RMSE (ret ~ ecy): 0.035\n",
      "RMSE (ret ~ trcape + ecy): 0.039\n"
     ]
    }
   ],
   "source": [
    "print(f\"RMSE ({models[0]}): {round(root_mean_squared_error(preds.ret,preds.mod0),3)}\")\n",
    "print(f\"RMSE ({models[1]}): {round(root_mean_squared_error(preds.ret,preds.mod1),3)}\")\n",
    "print(f\"RMSE ({models[2]}): {round(root_mean_squared_error(preds.ret,preds.mod2),3)}\")\n",
    "print(f\"RMSE ({models[3]}): {round(root_mean_squared_error(preds.ret,preds.mod3),3)}\")"
   ]
  },
  {
   "cell_type": "markdown",
   "id": "7855d2dc",
   "metadata": {},
   "source": [
    "## Model Comparision\n",
    "Looking at the RMSE values above, the `ret ~ ecy` model represented in model 2 had the best RMSE of all the models, giving more insight than just the standard deviation of the test annual compunded real return which was 0.038. This model was very close to the one adding the `trcape` dependent variable, but we have better RMSE and a simpler model by just considering `ecy.`"
   ]
  },
  {
   "cell_type": "markdown",
   "id": "fd29d1c0",
   "metadata": {},
   "source": [
    "# Part B: GARCH Model\n",
    "## Data Collection"
   ]
  },
  {
   "cell_type": "code",
   "execution_count": 125,
   "id": "3a9c09b0",
   "metadata": {},
   "outputs": [
    {
     "name": "stdout",
     "output_type": "stream",
     "text": [
      "<class 'pandas.core.series.Series'>\n",
      "DatetimeIndex: 1569 entries, 2021-01-04 00:00:00-05:00 to 2025-04-21 00:00:00-04:00\n",
      "Freq: D\n",
      "Series name: Open\n",
      "Non-Null Count  Dtype  \n",
      "--------------  -----  \n",
      "1569 non-null   float64\n",
      "dtypes: float64(1)\n",
      "memory usage: 24.5 KB\n"
     ]
    },
    {
     "name": "stderr",
     "output_type": "stream",
     "text": [
      "/var/folders/yx/p_q7lg1d7l9gxgp19507kcr00000gr/T/ipykernel_84741/16692012.py:4: FutureWarning: Series.fillna with 'method' is deprecated and will raise in a future version. Use obj.ffill() or obj.bfill() instead.\n",
      "  tesla = tesla.reindex(full_daterange).fillna(method='bfill')\n"
     ]
    }
   ],
   "source": [
    "tesla = yf.Ticker('TSLA').history(start=datetime(2010,7,2), end=datetime.now()).Open\n",
    "tesla = tesla[tesla.index.year >= 2021]\n",
    "full_daterange = pd.date_range(tesla.index.min(),tesla.index.max())\n",
    "tesla = tesla.reindex(full_daterange).fillna(method='bfill')\n",
    "tesla.info()"
   ]
  },
  {
   "cell_type": "code",
   "execution_count": 126,
   "id": "5ac83054",
   "metadata": {},
   "outputs": [
    {
     "data": {
      "text/plain": [
       "count    1569.000000\n",
       "mean      248.316845\n",
       "std        64.419308\n",
       "min       103.000000\n",
       "25%       202.520004\n",
       "50%       239.426666\n",
       "75%       279.266663\n",
       "max       475.899994\n",
       "Name: Open, dtype: float64"
      ]
     },
     "execution_count": 126,
     "metadata": {},
     "output_type": "execute_result"
    }
   ],
   "source": [
    "tesla.describe()"
   ]
  },
  {
   "cell_type": "code",
   "execution_count": 127,
   "id": "50f9dbf2",
   "metadata": {},
   "outputs": [
    {
     "data": {
      "image/png": "[encoded data removed]",
      "text/plain": [
       "<Figure size 640x480 with 1 Axes>"
      ]
     },
     "metadata": {},
     "output_type": "display_data"
    }
   ],
   "source": [
    "_ = sns.lineplot(tesla,label='Tesla Open')\n",
    "_ = plt.xticks(rotation=45)"
   ]
  },
  {
   "cell_type": "markdown",
   "id": "3ff5d8b2",
   "metadata": {},
   "source": [
    "## GARCH Models\n",
    "### Model 0: CARCH(1,1) without mean"
   ]
  },
  {
   "cell_type": "code",
   "execution_count": 128,
   "id": "e34d1077",
   "metadata": {},
   "outputs": [
    {
     "name": "stdout",
     "output_type": "stream",
     "text": [
      "Iteration:      1,   Func. Count:      5,   Neg. LLF: 46301.55618970546\n",
      "Iteration:      2,   Func. Count:     11,   Neg. LLF: 10829.864855770844\n",
      "Iteration:      3,   Func. Count:     15,   Neg. LLF: 10829.86455770803\n",
      "Iteration:      4,   Func. Count:     19,   Neg. LLF: 10829.863539446858\n",
      "Iteration:      5,   Func. Count:     23,   Neg. LLF: 10829.863062588927\n",
      "Iteration:      6,   Func. Count:     27,   Neg. LLF: 10829.863051467222\n",
      "Iteration:      7,   Func. Count:     31,   Neg. LLF: 10829.863014563563\n",
      "Iteration:      8,   Func. Count:     35,   Neg. LLF: 10829.863007046533\n",
      "Iteration:      9,   Func. Count:     38,   Neg. LLF: 10829.86300704654\n",
      "Optimization terminated successfully    (Exit mode 0)\n",
      "            Current function value: 10829.863007046533\n",
      "            Iterations: 9\n",
      "            Function evaluations: 38\n",
      "            Gradient evaluations: 9\n",
      "                       Zero Mean - GARCH Model Results                        \n",
      "==============================================================================\n",
      "Dep. Variable:                   Open   R-squared:                       0.000\n",
      "Mean Model:                 Zero Mean   Adj. R-squared:                  0.001\n",
      "Vol Model:                      GARCH   Log-Likelihood:               -10829.9\n",
      "Distribution:                  Normal   AIC:                           21665.7\n",
      "Method:            Maximum Likelihood   BIC:                           21681.8\n",
      "                                        No. Observations:                 1569\n",
      "Date:                Mon, Apr 21 2025   Df Residuals:                     1569\n",
      "Time:                        21:39:47   Df Model:                            0\n",
      "                               Volatility Model                              \n",
      "=============================================================================\n",
      "                 coef    std err          t      P>|t|       95.0% Conf. Int.\n",
      "-----------------------------------------------------------------------------\n",
      "omega       1316.1634    252.516      5.212  1.866e-07  [8.212e+02,1.811e+03]\n",
      "alpha[1]       0.9570  3.135e-02     30.524 1.270e-204      [  0.896,  1.018]\n",
      "beta[1]        0.0193  3.358e-02      0.574      0.566 [-4.653e-02,8.510e-02]\n",
      "=============================================================================\n",
      "\n",
      "Covariance estimator: robust\n"
     ]
    }
   ],
   "source": [
    "mod0 = arch_model(tesla, p=1, q=1, vol='GARCH',mean='Zero')\n",
    "res0 = mod0.fit()\n",
    "\n",
    "print(res0.summary())"
   ]
  },
  {
   "cell_type": "code",
   "execution_count": 129,
   "id": "036c042c",
   "metadata": {},
   "outputs": [
    {
     "data": {
      "image/png": "[encoded data removed]",
      "text/plain": [
       "<Figure size 640x480 with 2 Axes>"
      ]
     },
     "metadata": {},
     "output_type": "display_data"
    }
   ],
   "source": [
    "_ = res0.plot()\n",
    "_ = plt.xticks(rotation=45)"
   ]
  },
  {
   "cell_type": "markdown",
   "id": "c626a199",
   "metadata": {},
   "source": [
    "### Model 1: GARCH (1,1) model with mean equation having ARMA(1,1) process"
   ]
  },
  {
   "cell_type": "code",
   "execution_count": 130,
   "id": "0b30ea0c",
   "metadata": {},
   "outputs": [
    {
     "name": "stdout",
     "output_type": "stream",
     "text": [
      "Iteration:      1,   Func. Count:      5,   Neg. LLF: 4152982.360439253\n",
      "Iteration:      2,   Func. Count:     12,   Neg. LLF: 5476.514628782597\n",
      "Iteration:      3,   Func. Count:     17,   Neg. LLF: 5465.6512549006075\n",
      "Iteration:      4,   Func. Count:     22,   Neg. LLF: 483037451.0821187\n",
      "Iteration:      5,   Func. Count:     28,   Neg. LLF: 5466.052311528554\n",
      "Iteration:      6,   Func. Count:     33,   Neg. LLF: 5461.875647722925\n",
      "Iteration:      7,   Func. Count:     38,   Neg. LLF: 5462.05357527469\n",
      "Iteration:      8,   Func. Count:     43,   Neg. LLF: 5461.853157186224\n",
      "Iteration:      9,   Func. Count:     46,   Neg. LLF: 5461.853157179306\n",
      "Optimization terminated successfully    (Exit mode 0)\n",
      "            Current function value: 5461.853157186224\n",
      "            Iterations: 9\n",
      "            Function evaluations: 46\n",
      "            Gradient evaluations: 9\n",
      "                       Zero Mean - GARCH Model Results                        \n",
      "==============================================================================\n",
      "Dep. Variable:                   None   R-squared:                       0.000\n",
      "Mean Model:                 Zero Mean   Adj. R-squared:                  0.001\n",
      "Vol Model:                      GARCH   Log-Likelihood:               -5461.85\n",
      "Distribution:                  Normal   AIC:                           10929.7\n",
      "Method:            Maximum Likelihood   BIC:                           10945.8\n",
      "                                        No. Observations:                 1569\n",
      "Date:                Mon, Apr 21 2025   Df Residuals:                     1569\n",
      "Time:                        21:39:47   Df Model:                            0\n",
      "                              Volatility Model                              \n",
      "============================================================================\n",
      "                 coef    std err          t      P>|t|      95.0% Conf. Int.\n",
      "----------------------------------------------------------------------------\n",
      "omega          0.6167      0.316      1.951  5.109e-02  [-2.924e-03,  1.236]\n",
      "alpha[1]       0.0439  1.179e-02      3.721  1.985e-04 [2.075e-02,6.695e-02]\n",
      "beta[1]        0.9488  1.257e-02     75.501      0.000     [  0.924,  0.973]\n",
      "============================================================================\n",
      "\n",
      "Covariance estimator: robust\n"
     ]
    }
   ],
   "source": [
    "arima_model = ARIMA(tesla, order=(1, 0, 1))\n",
    "arima_result = arima_model.fit()\n",
    "residuals = arima_result.resid\n",
    "\n",
    " # Fit ARCH model to residuals\n",
    "mod1 = arch_model(residuals, p=1, q=1, vol='GARCH', mean='Zero')\n",
    "res1 = mod1.fit()  \n",
    "print(res1.summary())"
   ]
  },
  {
   "cell_type": "code",
   "execution_count": 131,
   "id": "3ae792e1",
   "metadata": {},
   "outputs": [
    {
     "data": {
      "image/png": "[encoded data removed]",
      "text/plain": [
       "<Figure size 640x480 with 2 Axes>"
      ]
     },
     "metadata": {},
     "output_type": "display_data"
    }
   ],
   "source": [
    "_ = res1.plot()\n",
    "_ = plt.xticks(rotation=45)"
   ]
  },
  {
   "cell_type": "markdown",
   "id": "4b711638",
   "metadata": {},
   "source": [
    "### Model 2: GARCH (1,1) -in-mean model with mean having ARMA(1,1) process"
   ]
  },
  {
   "cell_type": "code",
   "execution_count": 132,
   "id": "54104105",
   "metadata": {},
   "outputs": [
    {
     "name": "stdout",
     "output_type": "stream",
     "text": [
      "Iteration:      1,   Func. Count:      7,   Neg. LLF: 15957299.291344615\n",
      "Iteration:      2,   Func. Count:     16,   Neg. LLF: 258078.29001097856\n",
      "Iteration:      3,   Func. Count:     25,   Neg. LLF: 7294.780891648262\n",
      "Iteration:      4,   Func. Count:     33,   Neg. LLF: 5472.5167620203565\n",
      "Iteration:      5,   Func. Count:     40,   Neg. LLF: 5465.336097966438\n",
      "Iteration:      6,   Func. Count:     47,   Neg. LLF: 5461.706794889311\n",
      "Iteration:      7,   Func. Count:     54,   Neg. LLF: 5477.546492211686\n",
      "Iteration:      8,   Func. Count:     61,   Neg. LLF: 5460.0982269470405\n",
      "Iteration:      9,   Func. Count:     68,   Neg. LLF: 5488.64737276897\n",
      "Iteration:     10,   Func. Count:     75,   Neg. LLF: 5457.81275535319\n",
      "Iteration:     11,   Func. Count:     81,   Neg. LLF: 5457.812518994371\n",
      "Iteration:     12,   Func. Count:     87,   Neg. LLF: 5457.812496926168\n",
      "Iteration:     13,   Func. Count:     93,   Neg. LLF: 5457.812496145723\n",
      "Optimization terminated successfully    (Exit mode 0)\n",
      "            Current function value: 5457.812496145723\n",
      "            Iterations: 13\n",
      "            Function evaluations: 93\n",
      "            Gradient evaluations: 13\n",
      "                           AR - GARCH Model Results                           \n",
      "==============================================================================\n",
      "Dep. Variable:                   None   R-squared:                      -0.000\n",
      "Mean Model:                        AR   Adj. R-squared:                 -0.001\n",
      "Vol Model:                      GARCH   Log-Likelihood:               -5457.81\n",
      "Distribution:                  Normal   AIC:                           10925.6\n",
      "Method:            Maximum Likelihood   BIC:                           10952.4\n",
      "                                        No. Observations:                 1568\n",
      "Date:                Mon, Apr 21 2025   Df Residuals:                     1566\n",
      "Time:                        21:39:48   Df Model:                            2\n",
      "                                  Mean Model                                 \n",
      "=============================================================================\n",
      "                 coef    std err          t      P>|t|       95.0% Conf. Int.\n",
      "-----------------------------------------------------------------------------\n",
      "Const         -0.1776      0.188     -0.943      0.346      [ -0.547,  0.192]\n",
      "None[1]    1.0447e-03  2.851e-02  3.664e-02      0.971 [-5.484e-02,5.693e-02]\n",
      "                              Volatility Model                              \n",
      "============================================================================\n",
      "                 coef    std err          t      P>|t|      95.0% Conf. Int.\n",
      "----------------------------------------------------------------------------\n",
      "omega          0.6182      0.315      1.965  4.946e-02   [1.466e-03,  1.235]\n",
      "alpha[1]       0.0437  1.161e-02      3.762  1.688e-04 [2.091e-02,6.641e-02]\n",
      "beta[1]        0.9490  1.244e-02     76.264      0.000     [  0.925,  0.973]\n",
      "============================================================================\n",
      "\n",
      "Covariance estimator: robust\n"
     ]
    }
   ],
   "source": [
    "mod2 = arch_model(\n",
    "    residuals,\n",
    "    mean='AR',\n",
    "    lags=1,\n",
    "    vol='GARCH',\n",
    "    p=1,\n",
    "    q=1,\n",
    "    dist='normal'\n",
    ")\n",
    "res2 = mod2.fit()\n",
    "print(res2.summary())"
   ]
  },
  {
   "cell_type": "code",
   "execution_count": 133,
   "id": "3a159156",
   "metadata": {},
   "outputs": [
    {
     "data": {
      "image/png": "[encoded data removed]",
      "text/plain": [
       "<Figure size 640x480 with 2 Axes>"
      ]
     },
     "metadata": {},
     "output_type": "display_data"
    }
   ],
   "source": [
    "_ = res2.plot()\n",
    "_ = plt.xticks(rotation=45)"
   ]
  },
  {
   "cell_type": "markdown",
   "id": "474f3c28",
   "metadata": {},
   "source": [
    "### Analysis\n",
    "As far as AIC comparison, models one and two have the lowest AIC, but I'd argue that model one is a simpler model and would edge out the other. As far as statistic significance, model one has the benefit of a zero mean reflection in the model, so only the variable components are reflected, all of which are statistically siginificant, model two has the mean componenets and they're p values are above 0.05, so I'd chose model one again in this aspect. All three models have relatively low standard errors and non of them have zero crossing confidence intervals. Residuals also appear to be randomly distributed on all three, with a pretty constant variance. All this being said, I'd choose model one as the best model"
   ]
  },
  {
   "cell_type": "code",
   "execution_count": 134,
   "id": "b187bf60",
   "metadata": {},
   "outputs": [
    {
     "data": {
      "image/png": "[encoded data removed]",
      "text/plain": [
       "<Figure size 640x480 with 1 Axes>"
      ]
     },
     "metadata": {},
     "output_type": "display_data"
    }
   ],
   "source": [
    "# Forecast GARCH component\n",
    "forecast_length = 100\n",
    "\n",
    "garch_forecast = res1.forecast(\n",
    "    horizon=forecast_length\n",
    "    )\n",
    "\n",
    "vars = garch_forecast.variance\n",
    "\n",
    "vars = vars.T\n",
    "vars.columns = ['prediction']\n",
    "vars.index = pd.date_range(\n",
    "    start = tesla.index.max() + timedelta(days=1),\n",
    "    end=tesla.index.max() + timedelta(days=forecast_length), \n",
    "    )\n",
    "\n",
    "_ = sns.lineplot(vars)\n",
    "_ = plt.xticks(rotation=45)"
   ]
  }
 ],
 "metadata": {
  "kernelspec": {
   "display_name": ".venv",
   "language": "python",
   "name": "python3"
  },
  "language_info": {
   "codemirror_mode": {
    "name": "ipython",
    "version": 3
   },
   "file_extension": ".py",
   "mimetype": "text/x-python",
   "name": "python",
   "nbconvert_exporter": "python",
   "pygments_lexer": "ipython3",
   "version": "3.13.2"
  }
 },
 "nbformat": 4,
 "nbformat_minor": 5
}
